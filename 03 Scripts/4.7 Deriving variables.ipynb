{
 "cells": [
  {
   "cell_type": "markdown",
   "id": "2d0b673d",
   "metadata": {},
   "source": [
    "# Table of content\n",
    "## 1. Setting up\n",
    "## 2. Column derivations for price\n",
    "## 3. For loop\n",
    "## 4. Column derivation for order frequency\n",
    "## 5. Solving tasks 4.7"
   ]
  },
  {
   "cell_type": "markdown",
   "id": "9c3784c2",
   "metadata": {},
   "source": [
    "# 1. Setting up"
   ]
  },
  {
   "cell_type": "code",
   "execution_count": 1,
   "id": "c52491f0",
   "metadata": {},
   "outputs": [],
   "source": [
    "# Import pandas, numpy and os\n",
    "\n",
    "import pandas as pd\n",
    "import numpy as np\n",
    "import os"
   ]
  },
  {
   "cell_type": "code",
   "execution_count": 2,
   "id": "64dd536d",
   "metadata": {},
   "outputs": [],
   "source": [
    "# creating path for later import/export\n",
    "\n",
    "path = r\"C:\\Users\\Anwender\\Documents\\07-2023 Instacart Basket Analysis\\02 Data\""
   ]
  },
  {
   "cell_type": "code",
   "execution_count": 3,
   "id": "792959dc",
   "metadata": {},
   "outputs": [],
   "source": [
    "# importing df merged\n",
    "\n",
    "df = pd.read_pickle(os.path.join(path, \"Prepared Data\", \"df_merged.pkl\"))"
   ]
  },
  {
   "cell_type": "markdown",
   "id": "6da47fc0",
   "metadata": {},
   "source": [
    "# 2. Column derivations for price"
   ]
  },
  {
   "cell_type": "code",
   "execution_count": 23,
   "id": "92295e48",
   "metadata": {},
   "outputs": [],
   "source": [
    "# limitting df to one million rows\n",
    "\n",
    "df_subset = df[:1000000]"
   ]
  },
  {
   "cell_type": "code",
   "execution_count": 4,
   "id": "03ac1d30",
   "metadata": {},
   "outputs": [],
   "source": [
    "# defining new column derivate \"price_label\"\n",
    "\n",
    "def price_label(row):\n",
    "\n",
    "  if row[\"prices\"] <= 5:\n",
    "    return \"Low-range product\"\n",
    "  elif (row[\"prices\"] > 5) and (row[\"prices\"] <= 15):\n",
    "    return \"Mid-range product\"\n",
    "  elif row[\"prices\"] > 15:\n",
    "    return \"High-range product\"\n",
    "  else: return \"Not enough data\""
   ]
  },
  {
   "cell_type": "code",
   "execution_count": 24,
   "id": "1ce159aa",
   "metadata": {},
   "outputs": [
    {
     "name": "stderr",
     "output_type": "stream",
     "text": [
      "C:\\Users\\Anwender\\AppData\\Local\\Temp\\ipykernel_25372\\3223521750.py:3: SettingWithCopyWarning: \n",
      "A value is trying to be set on a copy of a slice from a DataFrame.\n",
      "Try using .loc[row_indexer,col_indexer] = value instead\n",
      "\n",
      "See the caveats in the documentation: https://pandas.pydata.org/pandas-docs/stable/user_guide/indexing.html#returning-a-view-versus-a-copy\n",
      "  df_subset['price_range'] = df_subset.apply(price_label, axis=1)\n"
     ]
    }
   ],
   "source": [
    "# applying definition to df_subset:\n",
    "\n",
    "df_subset[\"price_range\"] = df_subset.apply(price_label, axis=1)"
   ]
  },
  {
   "cell_type": "code",
   "execution_count": 25,
   "id": "2efc9e12",
   "metadata": {},
   "outputs": [
    {
     "data": {
      "text/plain": [
       "(1000000, 19)"
      ]
     },
     "execution_count": 25,
     "metadata": {},
     "output_type": "execute_result"
    }
   ],
   "source": [
    "# checking for increased number of columns\n",
    "\n",
    "df_subset.shape"
   ]
  },
  {
   "cell_type": "code",
   "execution_count": 26,
   "id": "5c289589",
   "metadata": {},
   "outputs": [
    {
     "data": {
      "text/plain": [
       "Mid-range product    756450\n",
       "Low-range product    243550\n",
       "Name: price_range, dtype: int64"
      ]
     },
     "execution_count": 26,
     "metadata": {},
     "output_type": "execute_result"
    }
   ],
   "source": [
    "# checking to see output of definition price_range\n",
    "\n",
    "df_subset[\"price_range\"].value_counts(dropna=False)"
   ]
  },
  {
   "cell_type": "code",
   "execution_count": 14,
   "id": "38e1c91e",
   "metadata": {},
   "outputs": [
    {
     "data": {
      "text/plain": [
       "14.8"
      ]
     },
     "execution_count": 14,
     "metadata": {},
     "output_type": "execute_result"
    }
   ],
   "source": [
    "# checking for max price\n",
    "\n",
    "df_subset[\"prices\"].max()"
   ]
  },
  {
   "cell_type": "code",
   "execution_count": 15,
   "id": "1f2237e9",
   "metadata": {},
   "outputs": [
    {
     "name": "stderr",
     "output_type": "stream",
     "text": [
      "C:\\Users\\Anwender\\AppData\\Local\\Temp\\ipykernel_31096\\2958503497.py:3: SettingWithCopyWarning: \n",
      "A value is trying to be set on a copy of a slice from a DataFrame.\n",
      "Try using .loc[row_indexer,col_indexer] = value instead\n",
      "\n",
      "See the caveats in the documentation: https://pandas.pydata.org/pandas-docs/stable/user_guide/indexing.html#returning-a-view-versus-a-copy\n",
      "  df_subset.loc[df[\"prices\"]>15, \"price_range_loc\"] = \"High-range product\"\n"
     ]
    }
   ],
   "source": [
    "# setting conditions with the loc function as an alternative to the price_range definition:\n",
    "\n",
    "df_subset.loc[df[\"prices\"]>15, \"price_range_loc\"] = \"High-range product\""
   ]
  },
  {
   "cell_type": "code",
   "execution_count": 16,
   "id": "e0fe2994",
   "metadata": {},
   "outputs": [],
   "source": [
    "df_subset.loc[(df[\"prices\"]<=15) & (df_subset[\"prices\"]>5), \"price_range_loc\"] = \"Mid-range product\""
   ]
  },
  {
   "cell_type": "code",
   "execution_count": 17,
   "id": "ca016c9e",
   "metadata": {},
   "outputs": [],
   "source": [
    "df_subset.loc[df[\"prices\"]<=5, \"price_range_loc\"] = \"Low-range product\""
   ]
  },
  {
   "cell_type": "code",
   "execution_count": 18,
   "id": "decb2e07",
   "metadata": {},
   "outputs": [
    {
     "data": {
      "text/plain": [
       "Mid-range product    756450\n",
       "Low-range product    243550\n",
       "Name: price_range_loc, dtype: int64"
      ]
     },
     "execution_count": 18,
     "metadata": {},
     "output_type": "execute_result"
    }
   ],
   "source": [
    "# checking output\n",
    "\n",
    "df_subset[\"price_range_loc\"].value_counts(dropna = False)"
   ]
  },
  {
   "cell_type": "code",
   "execution_count": 5,
   "id": "f930b6a7",
   "metadata": {},
   "outputs": [],
   "source": [
    "# applying loc function to whole df\n",
    "\n",
    "df.loc[df[\"prices\"]>15, \"price_range_loc\"] = \"High-range product\""
   ]
  },
  {
   "cell_type": "code",
   "execution_count": 6,
   "id": "7ddb3d24",
   "metadata": {},
   "outputs": [],
   "source": [
    "df.loc[(df[\"prices\"] <= 15) & (df[\"prices\"] > 5), \"price_range_loc\"] = \"Mid-range product\""
   ]
  },
  {
   "cell_type": "code",
   "execution_count": 7,
   "id": "5e521acd",
   "metadata": {},
   "outputs": [],
   "source": [
    "df.loc[df[\"prices\"]<=5, \"price_range_loc\"] = \"Low-range product\""
   ]
  },
  {
   "cell_type": "code",
   "execution_count": 8,
   "id": "3533fcf7",
   "metadata": {},
   "outputs": [
    {
     "data": {
      "text/plain": [
       "Mid-range product     21860860\n",
       "Low-range product     10126321\n",
       "High-range product      417678\n",
       "Name: price_range_loc, dtype: int64"
      ]
     },
     "execution_count": 8,
     "metadata": {},
     "output_type": "execute_result"
    }
   ],
   "source": [
    "df[\"price_range_loc\"].value_counts(dropna = False)"
   ]
  },
  {
   "cell_type": "markdown",
   "id": "a2cd9d8e",
   "metadata": {},
   "source": [
    "# 3. For loop"
   ]
  },
  {
   "cell_type": "code",
   "execution_count": 9,
   "id": "7f0f51d4",
   "metadata": {},
   "outputs": [
    {
     "name": "stdout",
     "output_type": "stream",
     "text": [
      "Millenials born in 1980\n",
      "Millenials born in 1981\n",
      "Millenials born in 1982\n",
      "Millenials born in 1983\n",
      "Millenials born in 1984\n",
      "Millenials born in 1985\n",
      "Millenials born in 1986\n",
      "Millenials born in 1987\n",
      "Millenials born in 1988\n",
      "Millenials born in 1989\n",
      "Millenials born in 1990\n",
      "Millenials born in 1991\n",
      "Millenials born in 1992\n",
      "Millenials born in 1993\n",
      "Millenials born in 1994\n",
      "Millenials born in 1995\n"
     ]
    }
   ],
   "source": [
    "# trying out for loops\n",
    "for x in range (1980, 1996):\n",
    "    print (\"Millenials born in %d\" % (x))"
   ]
  },
  {
   "cell_type": "markdown",
   "id": "f7b6dea8",
   "metadata": {},
   "source": [
    "# 4. Column derivation for order frequency"
   ]
  },
  {
   "cell_type": "code",
   "execution_count": 10,
   "id": "4c326729",
   "metadata": {},
   "outputs": [
    {
     "data": {
      "text/plain": [
       "0    6204182\n",
       "1    5660230\n",
       "6    4496490\n",
       "2    4213830\n",
       "5    4205791\n",
       "3    3840534\n",
       "4    3783802\n",
       "Name: orders_day_of_week, dtype: int64"
      ]
     },
     "execution_count": 10,
     "metadata": {},
     "output_type": "execute_result"
    }
   ],
   "source": [
    "# checking frequency of orders per weekday through \"orders_day_of_week\" column\n",
    "\n",
    "df[\"orders_day_of_week\"].value_counts(dropna = False)"
   ]
  },
  {
   "cell_type": "code",
   "execution_count": 11,
   "id": "64d55258",
   "metadata": {},
   "outputs": [],
   "source": [
    "# defining busy days by amount of orders per day for a summary\n",
    "\n",
    "result = []\n",
    "\n",
    "for value in df[\"orders_day_of_week\"]:\n",
    "  if value == 0:\n",
    "    result.append(\"Busiest day\")\n",
    "  elif value == 4:\n",
    "    result.append(\"Least busy\")\n",
    "  else:\n",
    "    result.append(\"Regularly busy\")"
   ]
  },
  {
   "cell_type": "code",
   "execution_count": 12,
   "id": "312493e9",
   "metadata": {},
   "outputs": [],
   "source": [
    "# applying definition to df\n",
    "\n",
    "df[\"busiest_day\"] = result"
   ]
  },
  {
   "cell_type": "code",
   "execution_count": 13,
   "id": "0e4a845a",
   "metadata": {},
   "outputs": [
    {
     "data": {
      "text/plain": [
       "Regularly busy    22416875\n",
       "Busiest day        6204182\n",
       "Least busy         3783802\n",
       "Name: busiest_day, dtype: int64"
      ]
     },
     "execution_count": 13,
     "metadata": {},
     "output_type": "execute_result"
    }
   ],
   "source": [
    "# frequency check of busiest day\n",
    "\n",
    "df[\"busiest_day\"].value_counts(dropna = False)"
   ]
  },
  {
   "cell_type": "markdown",
   "id": "18f00cea",
   "metadata": {},
   "source": [
    "# Solving tasks 4.7"
   ]
  },
  {
   "cell_type": "markdown",
   "id": "9e280296",
   "metadata": {},
   "source": [
    "### Step 2 changing busiest day to busiest days (plural) and slowest days"
   ]
  },
  {
   "cell_type": "code",
   "execution_count": 14,
   "id": "e3d00a7d",
   "metadata": {},
   "outputs": [],
   "source": [
    "# defining busiest and slowest days with a loop for result_2\n",
    "\n",
    "result_2 = []\n",
    "\n",
    "for value in df[\"orders_day_of_week\"]:\n",
    "  if value == 0 or value == 1:\n",
    "    result_2.append(\"Busiest days\")\n",
    "  elif value == 3 or value == 4:\n",
    "    result_2.append(\"Least busy\")\n",
    "  else:\n",
    "    result_2.append(\"Regularly busy\")"
   ]
  },
  {
   "cell_type": "code",
   "execution_count": 15,
   "id": "296aae6d",
   "metadata": {},
   "outputs": [],
   "source": [
    "# applying result_2 to the df\n",
    "\n",
    "df[\"busiest_days\"] = result_2"
   ]
  },
  {
   "cell_type": "code",
   "execution_count": 30,
   "id": "8ce546a0",
   "metadata": {},
   "outputs": [
    {
     "data": {
      "text/plain": [
       "Regularly busy    12916111\n",
       "Busiest days      11864412\n",
       "Least busy         7624336\n",
       "Name: busiest_days, dtype: int64"
      ]
     },
     "execution_count": 30,
     "metadata": {},
     "output_type": "execute_result"
    }
   ],
   "source": [
    "# checking for accuracy with a frequency table\n",
    "\n",
    "df[\"busiest_days\"].value_counts(dropna = False)"
   ]
  },
  {
   "cell_type": "markdown",
   "id": "fc90caec",
   "metadata": {},
   "source": [
    "#### The summarized values add up to the frequency checks above."
   ]
  },
  {
   "cell_type": "markdown",
   "id": "79b46093",
   "metadata": {},
   "source": [
    "### Step 4 Identifying busiest hours of the day"
   ]
  },
  {
   "cell_type": "code",
   "execution_count": 31,
   "id": "92b983aa",
   "metadata": {},
   "outputs": [
    {
     "data": {
      "text/plain": [
       "10    2761760\n",
       "11    2736140\n",
       "14    2689136\n",
       "15    2662144\n",
       "13    2660954\n",
       "12    2618532\n",
       "16    2535202\n",
       "9     2454203\n",
       "17    2087654\n",
       "8     1718118\n",
       "18    1636502\n",
       "19    1258305\n",
       "20     976156\n",
       "7      891054\n",
       "21     795637\n",
       "22     634225\n",
       "23     402316\n",
       "6      290493\n",
       "0      218769\n",
       "1      115700\n",
       "5       87961\n",
       "2       69375\n",
       "4       53242\n",
       "3       51281\n",
       "Name: order_hour_of_day, dtype: int64"
      ]
     },
     "execution_count": 31,
     "metadata": {},
     "output_type": "execute_result"
    }
   ],
   "source": [
    "# listing the amounts of orders per hour with a frequency table\n",
    "\n",
    "df[\"order_hour_of_day\"].value_counts(dropna = False)"
   ]
  },
  {
   "cell_type": "code",
   "execution_count": 17,
   "id": "30d3049b",
   "metadata": {},
   "outputs": [],
   "source": [
    "# setting conditions with the if function to test on subset df:\n",
    "\n",
    "def busiest_period_of_day(row):\n",
    "\n",
    "  if (row[\"order_hour_of_day\"] <= 5) and (row[\"order_hour_of_day\"] >= 0):\n",
    "    return \"Fewest orders\"\n",
    "  elif (row[\"order_hour_of_day\"] <= 15) and (row[\"order_hour_of_day\"] >= 10):\n",
    "    return \"Most orders\"\n",
    "  else: return \"Average orders\""
   ]
  },
  {
   "cell_type": "code",
   "execution_count": 33,
   "id": "3e4a6506",
   "metadata": {},
   "outputs": [
    {
     "name": "stderr",
     "output_type": "stream",
     "text": [
      "C:\\Users\\Anwender\\AppData\\Local\\Temp\\ipykernel_31096\\331398155.py:3: SettingWithCopyWarning: \n",
      "A value is trying to be set on a copy of a slice from a DataFrame.\n",
      "Try using .loc[row_indexer,col_indexer] = value instead\n",
      "\n",
      "See the caveats in the documentation: https://pandas.pydata.org/pandas-docs/stable/user_guide/indexing.html#returning-a-view-versus-a-copy\n",
      "  df_subset['busiest_period_of_day'] = df_subset.apply(busiest_period_of_day, axis=1)\n"
     ]
    }
   ],
   "source": [
    "# applying busy_hours to df_subset:\n",
    "\n",
    "df_subset[\"busiest_period_of_day\"] = df_subset.apply(busiest_period_of_day, axis=1)"
   ]
  },
  {
   "cell_type": "code",
   "execution_count": 34,
   "id": "b55275f9",
   "metadata": {},
   "outputs": [
    {
     "data": {
      "text/plain": [
       "(1000000, 16)"
      ]
     },
     "execution_count": 34,
     "metadata": {},
     "output_type": "execute_result"
    }
   ],
   "source": [
    "# checking shape after application\n",
    "\n",
    "df_subset.shape"
   ]
  },
  {
   "cell_type": "code",
   "execution_count": 35,
   "id": "cfd41bdb",
   "metadata": {},
   "outputs": [
    {
     "data": {
      "text/plain": [
       "Most orders       500305\n",
       "Average orders    482954\n",
       "Fewest orders      16741\n",
       "Name: busiest_period_of_day, dtype: int64"
      ]
     },
     "execution_count": 35,
     "metadata": {},
     "output_type": "execute_result"
    }
   ],
   "source": [
    "# checking frequency counts\n",
    "\n",
    "df_subset[\"busiest_period_of_day\"].value_counts(dropna=False)"
   ]
  },
  {
   "cell_type": "code",
   "execution_count": 36,
   "id": "04edf58f",
   "metadata": {},
   "outputs": [
    {
     "data": {
      "text/html": [
       "<div>\n",
       "<style scoped>\n",
       "    .dataframe tbody tr th:only-of-type {\n",
       "        vertical-align: middle;\n",
       "    }\n",
       "\n",
       "    .dataframe tbody tr th {\n",
       "        vertical-align: top;\n",
       "    }\n",
       "\n",
       "    .dataframe thead th {\n",
       "        text-align: right;\n",
       "    }\n",
       "</style>\n",
       "<table border=\"1\" class=\"dataframe\">\n",
       "  <thead>\n",
       "    <tr style=\"text-align: right;\">\n",
       "      <th></th>\n",
       "      <th>order_id</th>\n",
       "      <th>user_id</th>\n",
       "      <th>amount_of_orders</th>\n",
       "      <th>orders_day_of_week</th>\n",
       "      <th>order_hour_of_day</th>\n",
       "      <th>days_since_prior_order</th>\n",
       "      <th>product_id</th>\n",
       "      <th>add_to_cart_order</th>\n",
       "      <th>reordered</th>\n",
       "      <th>product_name</th>\n",
       "      <th>aisle_id</th>\n",
       "      <th>department_id</th>\n",
       "      <th>prices</th>\n",
       "      <th>_merge</th>\n",
       "      <th>price_range_loc</th>\n",
       "      <th>busiest_period_of_day</th>\n",
       "    </tr>\n",
       "  </thead>\n",
       "  <tbody>\n",
       "    <tr>\n",
       "      <th>0</th>\n",
       "      <td>2539329</td>\n",
       "      <td>1</td>\n",
       "      <td>1</td>\n",
       "      <td>2</td>\n",
       "      <td>8</td>\n",
       "      <td>NaN</td>\n",
       "      <td>196</td>\n",
       "      <td>1</td>\n",
       "      <td>0</td>\n",
       "      <td>Soda</td>\n",
       "      <td>77</td>\n",
       "      <td>7</td>\n",
       "      <td>9.0</td>\n",
       "      <td>both</td>\n",
       "      <td>Mid-range product</td>\n",
       "      <td>Average orders</td>\n",
       "    </tr>\n",
       "    <tr>\n",
       "      <th>1</th>\n",
       "      <td>2398795</td>\n",
       "      <td>1</td>\n",
       "      <td>2</td>\n",
       "      <td>3</td>\n",
       "      <td>7</td>\n",
       "      <td>15.0</td>\n",
       "      <td>196</td>\n",
       "      <td>1</td>\n",
       "      <td>1</td>\n",
       "      <td>Soda</td>\n",
       "      <td>77</td>\n",
       "      <td>7</td>\n",
       "      <td>9.0</td>\n",
       "      <td>both</td>\n",
       "      <td>Mid-range product</td>\n",
       "      <td>Average orders</td>\n",
       "    </tr>\n",
       "    <tr>\n",
       "      <th>2</th>\n",
       "      <td>473747</td>\n",
       "      <td>1</td>\n",
       "      <td>3</td>\n",
       "      <td>3</td>\n",
       "      <td>12</td>\n",
       "      <td>21.0</td>\n",
       "      <td>196</td>\n",
       "      <td>1</td>\n",
       "      <td>1</td>\n",
       "      <td>Soda</td>\n",
       "      <td>77</td>\n",
       "      <td>7</td>\n",
       "      <td>9.0</td>\n",
       "      <td>both</td>\n",
       "      <td>Mid-range product</td>\n",
       "      <td>Most orders</td>\n",
       "    </tr>\n",
       "    <tr>\n",
       "      <th>3</th>\n",
       "      <td>2254736</td>\n",
       "      <td>1</td>\n",
       "      <td>4</td>\n",
       "      <td>4</td>\n",
       "      <td>7</td>\n",
       "      <td>29.0</td>\n",
       "      <td>196</td>\n",
       "      <td>1</td>\n",
       "      <td>1</td>\n",
       "      <td>Soda</td>\n",
       "      <td>77</td>\n",
       "      <td>7</td>\n",
       "      <td>9.0</td>\n",
       "      <td>both</td>\n",
       "      <td>Mid-range product</td>\n",
       "      <td>Average orders</td>\n",
       "    </tr>\n",
       "    <tr>\n",
       "      <th>4</th>\n",
       "      <td>431534</td>\n",
       "      <td>1</td>\n",
       "      <td>5</td>\n",
       "      <td>4</td>\n",
       "      <td>15</td>\n",
       "      <td>28.0</td>\n",
       "      <td>196</td>\n",
       "      <td>1</td>\n",
       "      <td>1</td>\n",
       "      <td>Soda</td>\n",
       "      <td>77</td>\n",
       "      <td>7</td>\n",
       "      <td>9.0</td>\n",
       "      <td>both</td>\n",
       "      <td>Mid-range product</td>\n",
       "      <td>Most orders</td>\n",
       "    </tr>\n",
       "  </tbody>\n",
       "</table>\n",
       "</div>"
      ],
      "text/plain": [
       "   order_id  user_id  amount_of_orders  orders_day_of_week  order_hour_of_day  \\\n",
       "0   2539329        1                 1                   2                  8   \n",
       "1   2398795        1                 2                   3                  7   \n",
       "2    473747        1                 3                   3                 12   \n",
       "3   2254736        1                 4                   4                  7   \n",
       "4    431534        1                 5                   4                 15   \n",
       "\n",
       "   days_since_prior_order  product_id  add_to_cart_order  reordered  \\\n",
       "0                     NaN         196                  1          0   \n",
       "1                    15.0         196                  1          1   \n",
       "2                    21.0         196                  1          1   \n",
       "3                    29.0         196                  1          1   \n",
       "4                    28.0         196                  1          1   \n",
       "\n",
       "  product_name  aisle_id  department_id  prices _merge    price_range_loc  \\\n",
       "0         Soda        77              7     9.0   both  Mid-range product   \n",
       "1         Soda        77              7     9.0   both  Mid-range product   \n",
       "2         Soda        77              7     9.0   both  Mid-range product   \n",
       "3         Soda        77              7     9.0   both  Mid-range product   \n",
       "4         Soda        77              7     9.0   both  Mid-range product   \n",
       "\n",
       "  busiest_period_of_day  \n",
       "0        Average orders  \n",
       "1        Average orders  \n",
       "2           Most orders  \n",
       "3        Average orders  \n",
       "4           Most orders  "
      ]
     },
     "execution_count": 36,
     "metadata": {},
     "output_type": "execute_result"
    }
   ],
   "source": [
    "# checking output\n",
    "\n",
    "df_subset.head()"
   ]
  },
  {
   "cell_type": "code",
   "execution_count": 18,
   "id": "68cd7fa4",
   "metadata": {},
   "outputs": [],
   "source": [
    "# applying busy_hours to df\n",
    "\n",
    "df[\"busiest_period_of_day\"] = df.apply(busiest_period_of_day, axis=1)"
   ]
  },
  {
   "cell_type": "code",
   "execution_count": 19,
   "id": "a80c3ee1",
   "metadata": {},
   "outputs": [
    {
     "data": {
      "text/html": [
       "<div>\n",
       "<style scoped>\n",
       "    .dataframe tbody tr th:only-of-type {\n",
       "        vertical-align: middle;\n",
       "    }\n",
       "\n",
       "    .dataframe tbody tr th {\n",
       "        vertical-align: top;\n",
       "    }\n",
       "\n",
       "    .dataframe thead th {\n",
       "        text-align: right;\n",
       "    }\n",
       "</style>\n",
       "<table border=\"1\" class=\"dataframe\">\n",
       "  <thead>\n",
       "    <tr style=\"text-align: right;\">\n",
       "      <th></th>\n",
       "      <th>order_id</th>\n",
       "      <th>user_id</th>\n",
       "      <th>amount_of_orders</th>\n",
       "      <th>orders_day_of_week</th>\n",
       "      <th>order_hour_of_day</th>\n",
       "      <th>days_since_prior_order</th>\n",
       "      <th>product_id</th>\n",
       "      <th>add_to_cart_order</th>\n",
       "      <th>reordered</th>\n",
       "      <th>product_name</th>\n",
       "      <th>aisle_id</th>\n",
       "      <th>department_id</th>\n",
       "      <th>prices</th>\n",
       "      <th>_merge</th>\n",
       "      <th>price_range_loc</th>\n",
       "      <th>busiest_day</th>\n",
       "      <th>busiest_days</th>\n",
       "      <th>busiest_period_of_day</th>\n",
       "    </tr>\n",
       "  </thead>\n",
       "  <tbody>\n",
       "    <tr>\n",
       "      <th>0</th>\n",
       "      <td>2539329</td>\n",
       "      <td>1</td>\n",
       "      <td>1</td>\n",
       "      <td>2</td>\n",
       "      <td>8</td>\n",
       "      <td>NaN</td>\n",
       "      <td>196</td>\n",
       "      <td>1</td>\n",
       "      <td>0</td>\n",
       "      <td>Soda</td>\n",
       "      <td>77</td>\n",
       "      <td>7</td>\n",
       "      <td>9.0</td>\n",
       "      <td>both</td>\n",
       "      <td>Mid-range product</td>\n",
       "      <td>Regularly busy</td>\n",
       "      <td>Regularly busy</td>\n",
       "      <td>Average orders</td>\n",
       "    </tr>\n",
       "    <tr>\n",
       "      <th>1</th>\n",
       "      <td>2398795</td>\n",
       "      <td>1</td>\n",
       "      <td>2</td>\n",
       "      <td>3</td>\n",
       "      <td>7</td>\n",
       "      <td>15.0</td>\n",
       "      <td>196</td>\n",
       "      <td>1</td>\n",
       "      <td>1</td>\n",
       "      <td>Soda</td>\n",
       "      <td>77</td>\n",
       "      <td>7</td>\n",
       "      <td>9.0</td>\n",
       "      <td>both</td>\n",
       "      <td>Mid-range product</td>\n",
       "      <td>Regularly busy</td>\n",
       "      <td>Least busy</td>\n",
       "      <td>Average orders</td>\n",
       "    </tr>\n",
       "    <tr>\n",
       "      <th>2</th>\n",
       "      <td>473747</td>\n",
       "      <td>1</td>\n",
       "      <td>3</td>\n",
       "      <td>3</td>\n",
       "      <td>12</td>\n",
       "      <td>21.0</td>\n",
       "      <td>196</td>\n",
       "      <td>1</td>\n",
       "      <td>1</td>\n",
       "      <td>Soda</td>\n",
       "      <td>77</td>\n",
       "      <td>7</td>\n",
       "      <td>9.0</td>\n",
       "      <td>both</td>\n",
       "      <td>Mid-range product</td>\n",
       "      <td>Regularly busy</td>\n",
       "      <td>Least busy</td>\n",
       "      <td>Most orders</td>\n",
       "    </tr>\n",
       "    <tr>\n",
       "      <th>3</th>\n",
       "      <td>2254736</td>\n",
       "      <td>1</td>\n",
       "      <td>4</td>\n",
       "      <td>4</td>\n",
       "      <td>7</td>\n",
       "      <td>29.0</td>\n",
       "      <td>196</td>\n",
       "      <td>1</td>\n",
       "      <td>1</td>\n",
       "      <td>Soda</td>\n",
       "      <td>77</td>\n",
       "      <td>7</td>\n",
       "      <td>9.0</td>\n",
       "      <td>both</td>\n",
       "      <td>Mid-range product</td>\n",
       "      <td>Least busy</td>\n",
       "      <td>Least busy</td>\n",
       "      <td>Average orders</td>\n",
       "    </tr>\n",
       "    <tr>\n",
       "      <th>4</th>\n",
       "      <td>431534</td>\n",
       "      <td>1</td>\n",
       "      <td>5</td>\n",
       "      <td>4</td>\n",
       "      <td>15</td>\n",
       "      <td>28.0</td>\n",
       "      <td>196</td>\n",
       "      <td>1</td>\n",
       "      <td>1</td>\n",
       "      <td>Soda</td>\n",
       "      <td>77</td>\n",
       "      <td>7</td>\n",
       "      <td>9.0</td>\n",
       "      <td>both</td>\n",
       "      <td>Mid-range product</td>\n",
       "      <td>Least busy</td>\n",
       "      <td>Least busy</td>\n",
       "      <td>Most orders</td>\n",
       "    </tr>\n",
       "  </tbody>\n",
       "</table>\n",
       "</div>"
      ],
      "text/plain": [
       "   order_id  user_id  amount_of_orders  orders_day_of_week  order_hour_of_day  \\\n",
       "0   2539329        1                 1                   2                  8   \n",
       "1   2398795        1                 2                   3                  7   \n",
       "2    473747        1                 3                   3                 12   \n",
       "3   2254736        1                 4                   4                  7   \n",
       "4    431534        1                 5                   4                 15   \n",
       "\n",
       "   days_since_prior_order  product_id  add_to_cart_order  reordered  \\\n",
       "0                     NaN         196                  1          0   \n",
       "1                    15.0         196                  1          1   \n",
       "2                    21.0         196                  1          1   \n",
       "3                    29.0         196                  1          1   \n",
       "4                    28.0         196                  1          1   \n",
       "\n",
       "  product_name  aisle_id  department_id  prices _merge    price_range_loc  \\\n",
       "0         Soda        77              7     9.0   both  Mid-range product   \n",
       "1         Soda        77              7     9.0   both  Mid-range product   \n",
       "2         Soda        77              7     9.0   both  Mid-range product   \n",
       "3         Soda        77              7     9.0   both  Mid-range product   \n",
       "4         Soda        77              7     9.0   both  Mid-range product   \n",
       "\n",
       "      busiest_day    busiest_days busiest_period_of_day  \n",
       "0  Regularly busy  Regularly busy        Average orders  \n",
       "1  Regularly busy      Least busy        Average orders  \n",
       "2  Regularly busy      Least busy           Most orders  \n",
       "3      Least busy      Least busy        Average orders  \n",
       "4      Least busy      Least busy           Most orders  "
      ]
     },
     "execution_count": 19,
     "metadata": {},
     "output_type": "execute_result"
    }
   ],
   "source": [
    "# checking output after application\n",
    "\n",
    "df.head()"
   ]
  },
  {
   "cell_type": "code",
   "execution_count": 20,
   "id": "f2e06b0a",
   "metadata": {},
   "outputs": [
    {
     "data": {
      "text/plain": [
       "(32404859, 18)"
      ]
     },
     "execution_count": 20,
     "metadata": {},
     "output_type": "execute_result"
    }
   ],
   "source": [
    "# checking shape \n",
    "\n",
    "df.shape"
   ]
  },
  {
   "cell_type": "code",
   "execution_count": 21,
   "id": "f49ed19e",
   "metadata": {},
   "outputs": [
    {
     "data": {
      "text/plain": [
       "Most orders       16128666\n",
       "Average orders    15679865\n",
       "Fewest orders       596328\n",
       "Name: busiest_period_of_day, dtype: int64"
      ]
     },
     "execution_count": 21,
     "metadata": {},
     "output_type": "execute_result"
    }
   ],
   "source": [
    "# checking frequency counts\n",
    "\n",
    "df[\"busiest_period_of_day\"].value_counts(dropna=False)"
   ]
  },
  {
   "cell_type": "code",
   "execution_count": 28,
   "id": "cf39d9b4",
   "metadata": {},
   "outputs": [],
   "source": [
    "# exporting file as df_derived.pkl\n",
    "\n",
    "df.to_pickle(os.path.join(path, \"Prepared Data\", \"df_derived.pkl\"))"
   ]
  },
  {
   "cell_type": "code",
   "execution_count": null,
   "id": "3216e782",
   "metadata": {},
   "outputs": [],
   "source": []
  }
 ],
 "metadata": {
  "kernelspec": {
   "display_name": "Python 3 (ipykernel)",
   "language": "python",
   "name": "python3"
  },
  "language_info": {
   "codemirror_mode": {
    "name": "ipython",
    "version": 3
   },
   "file_extension": ".py",
   "mimetype": "text/x-python",
   "name": "python",
   "nbconvert_exporter": "python",
   "pygments_lexer": "ipython3",
   "version": "3.10.9"
  }
 },
 "nbformat": 4,
 "nbformat_minor": 5
}
