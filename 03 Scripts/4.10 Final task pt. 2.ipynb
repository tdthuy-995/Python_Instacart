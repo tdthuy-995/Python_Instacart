{
 "cells": [
  {
   "cell_type": "markdown",
   "id": "5e6fb02f",
   "metadata": {},
   "source": [
    "# Excel report on IC analysis - continuation/ solving given tasks"
   ]
  },
  {
   "cell_type": "markdown",
   "id": "174b4663",
   "metadata": {},
   "source": [
    "# Table of content\n",
    "## 1. Setting up\n",
    "## 2. What’s the distribution among users in regards to their brand loyalty?\n",
    "## 3. Are there differences in ordering habits based on a customer’s loyalty status?\n",
    "## 4. Are there differences in ordering habits based on a customer’s region?\n",
    "## 5. Is there a connection between age and family status in terms of ordering habits?\n",
    "## 6. What different classifications does the demographic information suggest?\n",
    "## 7. Creating customer profiles & more visualizations "
   ]
  },
  {
   "cell_type": "markdown",
   "id": "2d235113",
   "metadata": {},
   "source": [
    "# 1. Setting up"
   ]
  },
  {
   "cell_type": "code",
   "execution_count": 22,
   "id": "cc7adc85",
   "metadata": {},
   "outputs": [],
   "source": [
    "import pandas as pd\n",
    "import numpy as np\n",
    "import os\n",
    "import matplotlib.pyplot as plt\n",
    "import seaborn as sns\n",
    "import scipy"
   ]
  },
  {
   "cell_type": "code",
   "execution_count": 2,
   "id": "e81dcff2",
   "metadata": {},
   "outputs": [],
   "source": [
    "# creating path for later import/export\n",
    "\n",
    "path = r\"C:\\Users\\Anwender\\Documents\\07-2023 Instacart Basket Analysis\""
   ]
  },
  {
   "cell_type": "code",
   "execution_count": null,
   "id": "d19fd8fe",
   "metadata": {},
   "outputs": [],
   "source": [
    "# importing df\n",
    "\n",
    "df = pd.read_pickle(os.path.join(path, \"02 Data\", \"Prepared Data\", \"orders_products_high.pkl\"))"
   ]
  },
  {
   "cell_type": "code",
   "execution_count": 3,
   "id": "3a8ae716",
   "metadata": {},
   "outputs": [],
   "source": [
    "pd.options.display.max_columns=None"
   ]
  },
  {
   "cell_type": "code",
   "execution_count": null,
   "id": "6590bbc3",
   "metadata": {},
   "outputs": [],
   "source": [
    "# importing departments_wrangled.csv for clarification\n",
    "\n",
    "departments = pd.read_csv(os.path.join(path, \"02 Data\", \"Prepared Data\", \"departments_wrangled.csv\"), index_col = False)"
   ]
  },
  {
   "cell_type": "code",
   "execution_count": null,
   "id": "ba5c4388",
   "metadata": {
    "scrolled": true
   },
   "outputs": [],
   "source": [
    "# checking departments.csv content\n",
    "\n",
    "departments.head(20)"
   ]
  },
  {
   "cell_type": "code",
   "execution_count": null,
   "id": "e907bbe9",
   "metadata": {},
   "outputs": [],
   "source": [
    "# renaming \"Unnamed: 0\" column to \"department_id\"\n",
    "\n",
    "departments.rename(columns = {\"Unnamed: 0\":\"department_id\"}, inplace = True)"
   ]
  },
  {
   "cell_type": "code",
   "execution_count": null,
   "id": "1b381465",
   "metadata": {},
   "outputs": [],
   "source": [
    "# merging departments with the rest of the df:\n",
    "\n",
    "df_new = df.merge(departments, on = [\"department_id\"], indicator = True)"
   ]
  },
  {
   "cell_type": "code",
   "execution_count": 94,
   "id": "e34acedb",
   "metadata": {
    "scrolled": true
   },
   "outputs": [
    {
     "data": {
      "text/html": [
       "<div>\n",
       "<style scoped>\n",
       "    .dataframe tbody tr th:only-of-type {\n",
       "        vertical-align: middle;\n",
       "    }\n",
       "\n",
       "    .dataframe tbody tr th {\n",
       "        vertical-align: top;\n",
       "    }\n",
       "\n",
       "    .dataframe thead th {\n",
       "        text-align: right;\n",
       "    }\n",
       "</style>\n",
       "<table border=\"1\" class=\"dataframe\">\n",
       "  <thead>\n",
       "    <tr style=\"text-align: right;\">\n",
       "      <th></th>\n",
       "      <th>user_id</th>\n",
       "      <th>Gender</th>\n",
       "      <th>State</th>\n",
       "      <th>Age</th>\n",
       "      <th>number_of_dependents</th>\n",
       "      <th>fam_status</th>\n",
       "      <th>income</th>\n",
       "      <th>order_id</th>\n",
       "      <th>amount_of_orders</th>\n",
       "      <th>orders_day_of_week</th>\n",
       "      <th>order_hour_of_day</th>\n",
       "      <th>days_since_prior_order</th>\n",
       "      <th>product_id</th>\n",
       "      <th>add_to_cart_order</th>\n",
       "      <th>reordered</th>\n",
       "      <th>product_name</th>\n",
       "      <th>department_id</th>\n",
       "      <th>prices</th>\n",
       "      <th>price_range_loc</th>\n",
       "      <th>busiest_days</th>\n",
       "      <th>busiest_period_of_day</th>\n",
       "      <th>max_order</th>\n",
       "      <th>loyalty_flag</th>\n",
       "      <th>average_spending</th>\n",
       "      <th>spending_flag</th>\n",
       "      <th>median_days_previous_order</th>\n",
       "      <th>order_frequency</th>\n",
       "      <th>Region</th>\n",
       "      <th>order_activity</th>\n",
       "      <th>department</th>\n",
       "      <th>_merge</th>\n",
       "      <th>maturity</th>\n",
       "      <th>has dependent</th>\n",
       "      <th>profile agexdependent</th>\n",
       "      <th>income level</th>\n",
       "      <th>sum_per_order</th>\n",
       "    </tr>\n",
       "  </thead>\n",
       "  <tbody>\n",
       "    <tr>\n",
       "      <th>0</th>\n",
       "      <td>26711</td>\n",
       "      <td>Female</td>\n",
       "      <td>Missouri</td>\n",
       "      <td>48</td>\n",
       "      <td>3</td>\n",
       "      <td>married</td>\n",
       "      <td>165665</td>\n",
       "      <td>2543867</td>\n",
       "      <td>5</td>\n",
       "      <td>1</td>\n",
       "      <td>9</td>\n",
       "      <td>30.0</td>\n",
       "      <td>196</td>\n",
       "      <td>2</td>\n",
       "      <td>0</td>\n",
       "      <td>Soda</td>\n",
       "      <td>7</td>\n",
       "      <td>9.0</td>\n",
       "      <td>Mid-range product</td>\n",
       "      <td>Busiest days</td>\n",
       "      <td>Average orders</td>\n",
       "      <td>8</td>\n",
       "      <td>New customer</td>\n",
       "      <td>7</td>\n",
       "      <td>Low spender</td>\n",
       "      <td>19.0</td>\n",
       "      <td>Regular customer</td>\n",
       "      <td>Midwest</td>\n",
       "      <td>High activity</td>\n",
       "      <td>beverages</td>\n",
       "      <td>both</td>\n",
       "      <td>Middle age</td>\n",
       "      <td>with dependent</td>\n",
       "      <td>Adult with dependent</td>\n",
       "      <td>high income</td>\n",
       "      <td>17.299999</td>\n",
       "    </tr>\n",
       "    <tr>\n",
       "      <th>1</th>\n",
       "      <td>26711</td>\n",
       "      <td>Female</td>\n",
       "      <td>Missouri</td>\n",
       "      <td>48</td>\n",
       "      <td>3</td>\n",
       "      <td>married</td>\n",
       "      <td>165665</td>\n",
       "      <td>1285508</td>\n",
       "      <td>7</td>\n",
       "      <td>5</td>\n",
       "      <td>15</td>\n",
       "      <td>11.0</td>\n",
       "      <td>196</td>\n",
       "      <td>1</td>\n",
       "      <td>1</td>\n",
       "      <td>Soda</td>\n",
       "      <td>7</td>\n",
       "      <td>9.0</td>\n",
       "      <td>Mid-range product</td>\n",
       "      <td>Regularly busy</td>\n",
       "      <td>Most orders</td>\n",
       "      <td>8</td>\n",
       "      <td>New customer</td>\n",
       "      <td>7</td>\n",
       "      <td>Low spender</td>\n",
       "      <td>19.0</td>\n",
       "      <td>Regular customer</td>\n",
       "      <td>Midwest</td>\n",
       "      <td>High activity</td>\n",
       "      <td>beverages</td>\n",
       "      <td>both</td>\n",
       "      <td>Middle age</td>\n",
       "      <td>with dependent</td>\n",
       "      <td>Adult with dependent</td>\n",
       "      <td>high income</td>\n",
       "      <td>25.900002</td>\n",
       "    </tr>\n",
       "    <tr>\n",
       "      <th>2</th>\n",
       "      <td>26711</td>\n",
       "      <td>Female</td>\n",
       "      <td>Missouri</td>\n",
       "      <td>48</td>\n",
       "      <td>3</td>\n",
       "      <td>married</td>\n",
       "      <td>165665</td>\n",
       "      <td>2578584</td>\n",
       "      <td>8</td>\n",
       "      <td>1</td>\n",
       "      <td>15</td>\n",
       "      <td>10.0</td>\n",
       "      <td>196</td>\n",
       "      <td>2</td>\n",
       "      <td>1</td>\n",
       "      <td>Soda</td>\n",
       "      <td>7</td>\n",
       "      <td>9.0</td>\n",
       "      <td>Mid-range product</td>\n",
       "      <td>Busiest days</td>\n",
       "      <td>Most orders</td>\n",
       "      <td>8</td>\n",
       "      <td>New customer</td>\n",
       "      <td>7</td>\n",
       "      <td>Low spender</td>\n",
       "      <td>19.0</td>\n",
       "      <td>Regular customer</td>\n",
       "      <td>Midwest</td>\n",
       "      <td>High activity</td>\n",
       "      <td>beverages</td>\n",
       "      <td>both</td>\n",
       "      <td>Middle age</td>\n",
       "      <td>with dependent</td>\n",
       "      <td>Adult with dependent</td>\n",
       "      <td>high income</td>\n",
       "      <td>25.900002</td>\n",
       "    </tr>\n",
       "    <tr>\n",
       "      <th>3</th>\n",
       "      <td>33890</td>\n",
       "      <td>Female</td>\n",
       "      <td>New Mexico</td>\n",
       "      <td>36</td>\n",
       "      <td>0</td>\n",
       "      <td>single</td>\n",
       "      <td>59285</td>\n",
       "      <td>1044841</td>\n",
       "      <td>3</td>\n",
       "      <td>6</td>\n",
       "      <td>11</td>\n",
       "      <td>30.0</td>\n",
       "      <td>196</td>\n",
       "      <td>1</td>\n",
       "      <td>0</td>\n",
       "      <td>Soda</td>\n",
       "      <td>7</td>\n",
       "      <td>9.0</td>\n",
       "      <td>Mid-range product</td>\n",
       "      <td>Regularly busy</td>\n",
       "      <td>Most orders</td>\n",
       "      <td>12</td>\n",
       "      <td>Regular customer</td>\n",
       "      <td>7</td>\n",
       "      <td>Low spender</td>\n",
       "      <td>26.0</td>\n",
       "      <td>Non-frequent customer</td>\n",
       "      <td>West</td>\n",
       "      <td>High activity</td>\n",
       "      <td>beverages</td>\n",
       "      <td>both</td>\n",
       "      <td>Middle age</td>\n",
       "      <td>without dependent</td>\n",
       "      <td>Adult without dependent</td>\n",
       "      <td>high income</td>\n",
       "      <td>36.599998</td>\n",
       "    </tr>\n",
       "    <tr>\n",
       "      <th>4</th>\n",
       "      <td>33890</td>\n",
       "      <td>Female</td>\n",
       "      <td>New Mexico</td>\n",
       "      <td>36</td>\n",
       "      <td>0</td>\n",
       "      <td>single</td>\n",
       "      <td>59285</td>\n",
       "      <td>474720</td>\n",
       "      <td>4</td>\n",
       "      <td>1</td>\n",
       "      <td>20</td>\n",
       "      <td>16.0</td>\n",
       "      <td>196</td>\n",
       "      <td>6</td>\n",
       "      <td>1</td>\n",
       "      <td>Soda</td>\n",
       "      <td>7</td>\n",
       "      <td>9.0</td>\n",
       "      <td>Mid-range product</td>\n",
       "      <td>Busiest days</td>\n",
       "      <td>Average orders</td>\n",
       "      <td>12</td>\n",
       "      <td>Regular customer</td>\n",
       "      <td>7</td>\n",
       "      <td>Low spender</td>\n",
       "      <td>26.0</td>\n",
       "      <td>Non-frequent customer</td>\n",
       "      <td>West</td>\n",
       "      <td>High activity</td>\n",
       "      <td>beverages</td>\n",
       "      <td>both</td>\n",
       "      <td>Middle age</td>\n",
       "      <td>without dependent</td>\n",
       "      <td>Adult without dependent</td>\n",
       "      <td>high income</td>\n",
       "      <td>48.000000</td>\n",
       "    </tr>\n",
       "    <tr>\n",
       "      <th>5</th>\n",
       "      <td>33890</td>\n",
       "      <td>Female</td>\n",
       "      <td>New Mexico</td>\n",
       "      <td>36</td>\n",
       "      <td>0</td>\n",
       "      <td>single</td>\n",
       "      <td>59285</td>\n",
       "      <td>896617</td>\n",
       "      <td>5</td>\n",
       "      <td>6</td>\n",
       "      <td>22</td>\n",
       "      <td>26.0</td>\n",
       "      <td>196</td>\n",
       "      <td>1</td>\n",
       "      <td>1</td>\n",
       "      <td>Soda</td>\n",
       "      <td>7</td>\n",
       "      <td>9.0</td>\n",
       "      <td>Mid-range product</td>\n",
       "      <td>Regularly busy</td>\n",
       "      <td>Average orders</td>\n",
       "      <td>12</td>\n",
       "      <td>Regular customer</td>\n",
       "      <td>7</td>\n",
       "      <td>Low spender</td>\n",
       "      <td>26.0</td>\n",
       "      <td>Non-frequent customer</td>\n",
       "      <td>West</td>\n",
       "      <td>High activity</td>\n",
       "      <td>beverages</td>\n",
       "      <td>both</td>\n",
       "      <td>Middle age</td>\n",
       "      <td>without dependent</td>\n",
       "      <td>Adult without dependent</td>\n",
       "      <td>high income</td>\n",
       "      <td>72.300003</td>\n",
       "    </tr>\n",
       "    <tr>\n",
       "      <th>6</th>\n",
       "      <td>33890</td>\n",
       "      <td>Female</td>\n",
       "      <td>New Mexico</td>\n",
       "      <td>36</td>\n",
       "      <td>0</td>\n",
       "      <td>single</td>\n",
       "      <td>59285</td>\n",
       "      <td>1044841</td>\n",
       "      <td>3</td>\n",
       "      <td>6</td>\n",
       "      <td>11</td>\n",
       "      <td>30.0</td>\n",
       "      <td>40939</td>\n",
       "      <td>5</td>\n",
       "      <td>0</td>\n",
       "      <td>Drinking Water</td>\n",
       "      <td>7</td>\n",
       "      <td>1.6</td>\n",
       "      <td>Low-range product</td>\n",
       "      <td>Regularly busy</td>\n",
       "      <td>Most orders</td>\n",
       "      <td>12</td>\n",
       "      <td>Regular customer</td>\n",
       "      <td>7</td>\n",
       "      <td>Low spender</td>\n",
       "      <td>26.0</td>\n",
       "      <td>Non-frequent customer</td>\n",
       "      <td>West</td>\n",
       "      <td>High activity</td>\n",
       "      <td>beverages</td>\n",
       "      <td>both</td>\n",
       "      <td>Middle age</td>\n",
       "      <td>without dependent</td>\n",
       "      <td>Adult without dependent</td>\n",
       "      <td>high income</td>\n",
       "      <td>36.599998</td>\n",
       "    </tr>\n",
       "    <tr>\n",
       "      <th>7</th>\n",
       "      <td>65803</td>\n",
       "      <td>Male</td>\n",
       "      <td>Idaho</td>\n",
       "      <td>35</td>\n",
       "      <td>2</td>\n",
       "      <td>married</td>\n",
       "      <td>99568</td>\n",
       "      <td>3233494</td>\n",
       "      <td>6</td>\n",
       "      <td>2</td>\n",
       "      <td>13</td>\n",
       "      <td>4.0</td>\n",
       "      <td>196</td>\n",
       "      <td>5</td>\n",
       "      <td>0</td>\n",
       "      <td>Soda</td>\n",
       "      <td>7</td>\n",
       "      <td>9.0</td>\n",
       "      <td>Mid-range product</td>\n",
       "      <td>Regularly busy</td>\n",
       "      <td>Most orders</td>\n",
       "      <td>9</td>\n",
       "      <td>New customer</td>\n",
       "      <td>8</td>\n",
       "      <td>Low spender</td>\n",
       "      <td>7.0</td>\n",
       "      <td>Frequent customer</td>\n",
       "      <td>West</td>\n",
       "      <td>High activity</td>\n",
       "      <td>beverages</td>\n",
       "      <td>both</td>\n",
       "      <td>Middle age</td>\n",
       "      <td>with dependent</td>\n",
       "      <td>Adult with dependent</td>\n",
       "      <td>high income</td>\n",
       "      <td>48.099998</td>\n",
       "    </tr>\n",
       "    <tr>\n",
       "      <th>8</th>\n",
       "      <td>65803</td>\n",
       "      <td>Male</td>\n",
       "      <td>Idaho</td>\n",
       "      <td>35</td>\n",
       "      <td>2</td>\n",
       "      <td>married</td>\n",
       "      <td>99568</td>\n",
       "      <td>142275</td>\n",
       "      <td>8</td>\n",
       "      <td>1</td>\n",
       "      <td>13</td>\n",
       "      <td>3.0</td>\n",
       "      <td>196</td>\n",
       "      <td>2</td>\n",
       "      <td>1</td>\n",
       "      <td>Soda</td>\n",
       "      <td>7</td>\n",
       "      <td>9.0</td>\n",
       "      <td>Mid-range product</td>\n",
       "      <td>Busiest days</td>\n",
       "      <td>Most orders</td>\n",
       "      <td>9</td>\n",
       "      <td>New customer</td>\n",
       "      <td>8</td>\n",
       "      <td>Low spender</td>\n",
       "      <td>7.0</td>\n",
       "      <td>Frequent customer</td>\n",
       "      <td>West</td>\n",
       "      <td>High activity</td>\n",
       "      <td>beverages</td>\n",
       "      <td>both</td>\n",
       "      <td>Middle age</td>\n",
       "      <td>with dependent</td>\n",
       "      <td>Adult with dependent</td>\n",
       "      <td>high income</td>\n",
       "      <td>103.099998</td>\n",
       "    </tr>\n",
       "    <tr>\n",
       "      <th>9</th>\n",
       "      <td>65803</td>\n",
       "      <td>Male</td>\n",
       "      <td>Idaho</td>\n",
       "      <td>35</td>\n",
       "      <td>2</td>\n",
       "      <td>married</td>\n",
       "      <td>99568</td>\n",
       "      <td>3114332</td>\n",
       "      <td>9</td>\n",
       "      <td>1</td>\n",
       "      <td>12</td>\n",
       "      <td>7.0</td>\n",
       "      <td>196</td>\n",
       "      <td>1</td>\n",
       "      <td>1</td>\n",
       "      <td>Soda</td>\n",
       "      <td>7</td>\n",
       "      <td>9.0</td>\n",
       "      <td>Mid-range product</td>\n",
       "      <td>Busiest days</td>\n",
       "      <td>Most orders</td>\n",
       "      <td>9</td>\n",
       "      <td>New customer</td>\n",
       "      <td>8</td>\n",
       "      <td>Low spender</td>\n",
       "      <td>7.0</td>\n",
       "      <td>Frequent customer</td>\n",
       "      <td>West</td>\n",
       "      <td>High activity</td>\n",
       "      <td>beverages</td>\n",
       "      <td>both</td>\n",
       "      <td>Middle age</td>\n",
       "      <td>with dependent</td>\n",
       "      <td>Adult with dependent</td>\n",
       "      <td>high income</td>\n",
       "      <td>95.199997</td>\n",
       "    </tr>\n",
       "  </tbody>\n",
       "</table>\n",
       "</div>"
      ],
      "text/plain": [
       "   user_id  Gender       State  Age  number_of_dependents fam_status  income  \\\n",
       "0    26711  Female    Missouri   48                     3    married  165665   \n",
       "1    26711  Female    Missouri   48                     3    married  165665   \n",
       "2    26711  Female    Missouri   48                     3    married  165665   \n",
       "3    33890  Female  New Mexico   36                     0     single   59285   \n",
       "4    33890  Female  New Mexico   36                     0     single   59285   \n",
       "5    33890  Female  New Mexico   36                     0     single   59285   \n",
       "6    33890  Female  New Mexico   36                     0     single   59285   \n",
       "7    65803    Male       Idaho   35                     2    married   99568   \n",
       "8    65803    Male       Idaho   35                     2    married   99568   \n",
       "9    65803    Male       Idaho   35                     2    married   99568   \n",
       "\n",
       "   order_id  amount_of_orders  orders_day_of_week  order_hour_of_day  \\\n",
       "0   2543867                 5                   1                  9   \n",
       "1   1285508                 7                   5                 15   \n",
       "2   2578584                 8                   1                 15   \n",
       "3   1044841                 3                   6                 11   \n",
       "4    474720                 4                   1                 20   \n",
       "5    896617                 5                   6                 22   \n",
       "6   1044841                 3                   6                 11   \n",
       "7   3233494                 6                   2                 13   \n",
       "8    142275                 8                   1                 13   \n",
       "9   3114332                 9                   1                 12   \n",
       "\n",
       "   days_since_prior_order  product_id  add_to_cart_order  reordered  \\\n",
       "0                    30.0         196                  2          0   \n",
       "1                    11.0         196                  1          1   \n",
       "2                    10.0         196                  2          1   \n",
       "3                    30.0         196                  1          0   \n",
       "4                    16.0         196                  6          1   \n",
       "5                    26.0         196                  1          1   \n",
       "6                    30.0       40939                  5          0   \n",
       "7                     4.0         196                  5          0   \n",
       "8                     3.0         196                  2          1   \n",
       "9                     7.0         196                  1          1   \n",
       "\n",
       "     product_name  department_id  prices    price_range_loc    busiest_days  \\\n",
       "0            Soda              7     9.0  Mid-range product    Busiest days   \n",
       "1            Soda              7     9.0  Mid-range product  Regularly busy   \n",
       "2            Soda              7     9.0  Mid-range product    Busiest days   \n",
       "3            Soda              7     9.0  Mid-range product  Regularly busy   \n",
       "4            Soda              7     9.0  Mid-range product    Busiest days   \n",
       "5            Soda              7     9.0  Mid-range product  Regularly busy   \n",
       "6  Drinking Water              7     1.6  Low-range product  Regularly busy   \n",
       "7            Soda              7     9.0  Mid-range product  Regularly busy   \n",
       "8            Soda              7     9.0  Mid-range product    Busiest days   \n",
       "9            Soda              7     9.0  Mid-range product    Busiest days   \n",
       "\n",
       "  busiest_period_of_day  max_order      loyalty_flag  average_spending  \\\n",
       "0        Average orders          8      New customer                 7   \n",
       "1           Most orders          8      New customer                 7   \n",
       "2           Most orders          8      New customer                 7   \n",
       "3           Most orders         12  Regular customer                 7   \n",
       "4        Average orders         12  Regular customer                 7   \n",
       "5        Average orders         12  Regular customer                 7   \n",
       "6           Most orders         12  Regular customer                 7   \n",
       "7           Most orders          9      New customer                 8   \n",
       "8           Most orders          9      New customer                 8   \n",
       "9           Most orders          9      New customer                 8   \n",
       "\n",
       "  spending_flag  median_days_previous_order        order_frequency   Region  \\\n",
       "0   Low spender                        19.0       Regular customer  Midwest   \n",
       "1   Low spender                        19.0       Regular customer  Midwest   \n",
       "2   Low spender                        19.0       Regular customer  Midwest   \n",
       "3   Low spender                        26.0  Non-frequent customer     West   \n",
       "4   Low spender                        26.0  Non-frequent customer     West   \n",
       "5   Low spender                        26.0  Non-frequent customer     West   \n",
       "6   Low spender                        26.0  Non-frequent customer     West   \n",
       "7   Low spender                         7.0      Frequent customer     West   \n",
       "8   Low spender                         7.0      Frequent customer     West   \n",
       "9   Low spender                         7.0      Frequent customer     West   \n",
       "\n",
       "  order_activity department _merge    maturity      has dependent  \\\n",
       "0  High activity  beverages   both  Middle age     with dependent   \n",
       "1  High activity  beverages   both  Middle age     with dependent   \n",
       "2  High activity  beverages   both  Middle age     with dependent   \n",
       "3  High activity  beverages   both  Middle age  without dependent   \n",
       "4  High activity  beverages   both  Middle age  without dependent   \n",
       "5  High activity  beverages   both  Middle age  without dependent   \n",
       "6  High activity  beverages   both  Middle age  without dependent   \n",
       "7  High activity  beverages   both  Middle age     with dependent   \n",
       "8  High activity  beverages   both  Middle age     with dependent   \n",
       "9  High activity  beverages   both  Middle age     with dependent   \n",
       "\n",
       "     profile agexdependent income level  sum_per_order  \n",
       "0     Adult with dependent  high income      17.299999  \n",
       "1     Adult with dependent  high income      25.900002  \n",
       "2     Adult with dependent  high income      25.900002  \n",
       "3  Adult without dependent  high income      36.599998  \n",
       "4  Adult without dependent  high income      48.000000  \n",
       "5  Adult without dependent  high income      72.300003  \n",
       "6  Adult without dependent  high income      36.599998  \n",
       "7     Adult with dependent  high income      48.099998  \n",
       "8     Adult with dependent  high income     103.099998  \n",
       "9     Adult with dependent  high income      95.199997  "
      ]
     },
     "execution_count": 94,
     "metadata": {},
     "output_type": "execute_result"
    }
   ],
   "source": [
    "# checking output\n",
    "\n",
    "df_new.head(10)"
   ]
  },
  {
   "cell_type": "code",
   "execution_count": 26,
   "id": "a5123732",
   "metadata": {},
   "outputs": [],
   "source": [
    "# renaming values in \"order_frequency\" column to avoid common value names with values in \"loyalty flag\"\n",
    "\n",
    "df_new['order_frequency'] = df_new['order_frequency'].str.replace('Regular customer', 'orders sometimes')\n",
    "df_new['order_frequency'] = df_new['order_frequency'].str.replace('Frequent customer', 'orders frequently')\n",
    "df_new['order_frequency'] = df_new['order_frequency'].str.replace('Non-frequent customer', 'orders seldomly')"
   ]
  },
  {
   "cell_type": "code",
   "execution_count": 30,
   "id": "bdc90f79",
   "metadata": {},
   "outputs": [
    {
     "data": {
      "text/plain": [
       "orders frequently    21204476\n",
       "orders sometimes      6865113\n",
       "orders seldomly       2894975\n",
       "Name: order_frequency, dtype: int64"
      ]
     },
     "execution_count": 30,
     "metadata": {},
     "output_type": "execute_result"
    }
   ],
   "source": [
    "# checking output\n",
    "\n",
    "df_new[\"order_frequency\"].value_counts(dropna = False)"
   ]
  },
  {
   "cell_type": "code",
   "execution_count": 159,
   "id": "b8a43d9c",
   "metadata": {},
   "outputs": [],
   "source": [
    "# exporting df_new as the latest version df_all\n",
    "\n",
    "df_new.to_pickle(os.path.join(path, \"02 Data\", \"Prepared Data\", \"df_all.pkl\"))"
   ]
  },
  {
   "cell_type": "markdown",
   "id": "d18f6ffa",
   "metadata": {},
   "source": [
    "# 2. What’s the distribution among users in regards to their brand loyalty (i.e., how often do they return to Instacart)?"
   ]
  },
  {
   "cell_type": "code",
   "execution_count": 33,
   "id": "85fdfa3c",
   "metadata": {},
   "outputs": [
    {
     "data": {
      "text/plain": [
       "Text(0, 0.5, '')"
      ]
     },
     "execution_count": 33,
     "metadata": {},
     "output_type": "execute_result"
    },
    {
     "data": {
      "image/png": "[encoded data removed]",
      "text/plain": [
       "<Figure size 640x480 with 1 Axes>"
      ]
     },
     "metadata": {},
     "output_type": "display_data"
    }
   ],
   "source": [
    "# pie chart for order_frequency distribution\n",
    "\n",
    "pie_loyalty = df_new[\"order_frequency\"].value_counts().sort_index().plot.pie()\n",
    "plt.title(\"Distribution of customers according to brand loyalty\")\n",
    "plt.ylabel(\"\")"
   ]
  },
  {
   "cell_type": "code",
   "execution_count": 34,
   "id": "d2d3b984",
   "metadata": {},
   "outputs": [],
   "source": [
    "# exporting pie_loyalty\n",
    "\n",
    "pie_loyalty.figure.savefig(os.path.join(path,\"04 Analysis\", \"Visualizations\", \"pie_frequ.png\"))"
   ]
  },
  {
   "cell_type": "markdown",
   "id": "af690a73",
   "metadata": {},
   "source": [
    "### The majority of Instacart users are frequently returning to Instacart to reorder."
   ]
  },
  {
   "cell_type": "markdown",
   "id": "92fde943",
   "metadata": {},
   "source": [
    "# 3.  Are there differences in ordering habits based on a customer’s loyalty status?"
   ]
  },
  {
   "cell_type": "code",
   "execution_count": 35,
   "id": "aa45e1ad",
   "metadata": {},
   "outputs": [
    {
     "name": "stdout",
     "output_type": "stream",
     "text": [
      "order_frequency   orders frequently  orders seldomly  orders sometimes\n",
      "loyalty_flag                                                          \n",
      "Loyal customer             10279960                0              4133\n",
      "New customer                1293294          1983500           1526901\n",
      "Regular customer            9631222           911475           5334079\n"
     ]
    }
   ],
   "source": [
    "# creating a crosstab for loyalty_flag over order_frequency\n",
    "\n",
    "crosstab4 = pd.crosstab(df_new[\"loyalty_flag\"], df_new[\"order_frequency\"], dropna = False)\n",
    "\n",
    "print(crosstab4)"
   ]
  },
  {
   "cell_type": "code",
   "execution_count": 48,
   "id": "4604430b",
   "metadata": {},
   "outputs": [
    {
     "data": {
      "text/plain": [
       "<matplotlib.legend.Legend at 0x1d3fd773fd0>"
      ]
     },
     "execution_count": 48,
     "metadata": {},
     "output_type": "execute_result"
    },
    {
     "data": {
      "image/png": "[encoded data removed]",
      "text/plain": [
       "<Figure size 640x480 with 1 Axes>"
      ]
     },
     "metadata": {},
     "output_type": "display_data"
    }
   ],
   "source": [
    "bar_loyalty_orderhabits = crosstab4.sort_values(\"orders frequently\").plot(kind=\"bar\", rot=0)\n",
    "plt.title(\"Order frequency by customer loyalty\")\n",
    "plt.xlabel(\"\")\n",
    "plt.ylabel(\"counts in billion\")\n",
    "plt.legend(bbox_to_anchor=(1.0, 1.0))"
   ]
  },
  {
   "cell_type": "code",
   "execution_count": 49,
   "id": "a4264237",
   "metadata": {},
   "outputs": [],
   "source": [
    "# exporting bar_loyalty_orderhabits \n",
    "\n",
    "bar_loyalty_orderhabits.figure.savefig(os.path.join(path, \"04 Analysis\", \"Visualizations\", \"bar_loyaltyxof.png\"))"
   ]
  },
  {
   "cell_type": "markdown",
   "id": "353f5dd5",
   "metadata": {},
   "source": [
    "### While there is barely a differentiation of order habits for new customers, one can see that the more loyal the customers are, the more frequently they order from Instacart as well. Most of the Regular customers and all of the loyal customers revisit and order again at Instacart in less than 10 days intervals."
   ]
  },
  {
   "cell_type": "markdown",
   "id": "292cce86",
   "metadata": {},
   "source": [
    "# 4.  Are there differences in ordering habits based on a customer’s region?\n"
   ]
  },
  {
   "cell_type": "code",
   "execution_count": 50,
   "id": "ba3fb94c",
   "metadata": {},
   "outputs": [
    {
     "name": "stdout",
     "output_type": "stream",
     "text": [
      "order_frequency  orders frequently  orders seldomly  orders sometimes\n",
      "Region                                                               \n",
      "Midwest                    4935393           690030           1636090\n",
      "Northeast                  3740982           496911           1226792\n",
      "South                      7073789           968006           2269344\n",
      "West                       5454312           740028           1732887\n"
     ]
    }
   ],
   "source": [
    "# creating a crosstab to look at order_frequency per region\n",
    "\n",
    "crosstab5 = pd.crosstab(df_new[\"Region\"], df_new[\"order_frequency\"], dropna = False)\n",
    "\n",
    "print(crosstab5)"
   ]
  },
  {
   "cell_type": "code",
   "execution_count": 54,
   "id": "8805a82e",
   "metadata": {
    "scrolled": true
   },
   "outputs": [
    {
     "data": {
      "text/plain": [
       "<matplotlib.legend.Legend at 0x1d3fdba1c60>"
      ]
     },
     "execution_count": 54,
     "metadata": {},
     "output_type": "execute_result"
    },
    {
     "data": {
      "image/png": "[encoded data removed]",
      "text/plain": [
       "<Figure size 640x480 with 1 Axes>"
      ]
     },
     "metadata": {},
     "output_type": "display_data"
    }
   ],
   "source": [
    "bar_region_orderhabits = crosstab5.sort_values(\"orders frequently\").plot(kind=\"bar\", stacked=True, rot=0)\n",
    "plt.title(\"Order frequency by region\")\n",
    "plt.xlabel(\"\")\n",
    "plt.ylabel(\"count of orders in billion\")\n",
    "plt.legend(bbox_to_anchor=(1.0, 1.0))"
   ]
  },
  {
   "cell_type": "code",
   "execution_count": 55,
   "id": "671722ea",
   "metadata": {},
   "outputs": [],
   "source": [
    "# exporting bar_region_orderhabits \n",
    "\n",
    "bar_region_orderhabits.figure.savefig(os.path.join(path, \"04 Analysis\", \"Visualizations\", \"bar_regionxof.png\"))"
   ]
  },
  {
   "cell_type": "markdown",
   "id": "045bec93",
   "metadata": {},
   "source": [
    "### Customers from the southern region order most often, whereas customers from the northeastern region order the least compared to the other regions. For every region, the majority of customers are those that order frequently at Instacart."
   ]
  },
  {
   "cell_type": "markdown",
   "id": "867a80b1",
   "metadata": {},
   "source": [
    "# 5. Is there a connection between age and family status in terms of ordering habits?\n"
   ]
  },
  {
   "cell_type": "code",
   "execution_count": 57,
   "id": "649b7416",
   "metadata": {},
   "outputs": [
    {
     "name": "stdout",
     "output_type": "stream",
     "text": [
      "order_frequency  orders frequently  orders seldomly  orders sometimes\n",
      "Age                                                                  \n",
      "18                          322725            49292            106440\n",
      "19                          346502            42976            106599\n",
      "20                          328062            47156            104976\n",
      "21                          335752            45949            107415\n",
      "22                          341872            45209            103730\n",
      "..                             ...              ...               ...\n",
      "77                          326769            46539            104691\n",
      "78                          315536            41681            113902\n",
      "79                          349999            47310            111028\n",
      "80                          342402            45212            105136\n",
      "81                          327375            46317            112155\n",
      "\n",
      "[64 rows x 3 columns]\n"
     ]
    }
   ],
   "source": [
    "# creating a crosstab to look at Age and order_frequency \n",
    "\n",
    "crosstab8 = pd.crosstab(df_new[\"Age\"], df_new[\"order_frequency\"], dropna = False)\n",
    "\n",
    "print(crosstab8)"
   ]
  },
  {
   "cell_type": "code",
   "execution_count": 99,
   "id": "fa73a526",
   "metadata": {},
   "outputs": [
    {
     "data": {
      "text/plain": [
       "<matplotlib.legend.Legend at 0x1d429f78c10>"
      ]
     },
     "execution_count": 99,
     "metadata": {},
     "output_type": "execute_result"
    },
    {
     "data": {
      "image/png": "[encoded data removed]",
      "text/plain": [
       "<Figure size 640x480 with 1 Axes>"
      ]
     },
     "metadata": {},
     "output_type": "display_data"
    }
   ],
   "source": [
    "# didn't include this viz since it's not easily understandable and xticks overlap --> using profile1 age x dependent instead\n",
    "\n",
    "bar_age_orderhabits = crosstab8.sort_values(\"orders frequently\").plot(kind=\"bar\", stacked=True, rot=0)\n",
    "plt.title(\"Order frequency by age\")\n",
    "plt.xlabel(\"\")\n",
    "plt.ylabel(\"count of orders in billion\")\n",
    "plt.legend(bbox_to_anchor=(1.0, 1.0))"
   ]
  },
  {
   "cell_type": "code",
   "execution_count": 60,
   "id": "add9e4e8",
   "metadata": {},
   "outputs": [
    {
     "name": "stdout",
     "output_type": "stream",
     "text": [
      "order_frequency                   orders frequently  orders seldomly  \\\n",
      "fam_status                                                             \n",
      "divorced/widowed                            1819123           243934   \n",
      "living with parents and siblings            1030514           138646   \n",
      "married                                    14888825          2039823   \n",
      "single                                      3466014           472572   \n",
      "\n",
      "order_frequency                   orders sometimes  \n",
      "fam_status                                          \n",
      "divorced/widowed                            582214  \n",
      "living with parents and siblings            312012  \n",
      "married                                    4815063  \n",
      "single                                     1155824  \n"
     ]
    }
   ],
   "source": [
    "# creating a crosstab to look at family status and order_frequency \n",
    "\n",
    "crosstab9 = pd.crosstab(df_new[\"fam_status\"], df_new[\"order_frequency\"], dropna = False)\n",
    "\n",
    "print(crosstab9)"
   ]
  },
  {
   "cell_type": "code",
   "execution_count": 72,
   "id": "29d072fb",
   "metadata": {},
   "outputs": [
    {
     "data": {
      "text/plain": [
       "<matplotlib.legend.Legend at 0x1d3ff1b1f30>"
      ]
     },
     "execution_count": 72,
     "metadata": {},
     "output_type": "execute_result"
    },
    {
     "data": {
      "image/png": "[encoded data removed]",
      "text/plain": [
       "<Figure size 640x480 with 1 Axes>"
      ]
     },
     "metadata": {},
     "output_type": "display_data"
    }
   ],
   "source": [
    "bar_marital_orderhabits = crosstab9.sort_values(\"orders frequently\").plot(kind=\"barh\", stacked=True, rot=0)\n",
    "plt.title(\"Order frequency by marital status\")\n",
    "plt.ylabel(\"\")\n",
    "plt.xlabel(\"count of orders in billion\")\n",
    "plt.legend(bbox_to_anchor=(1.0, 1.0))"
   ]
  },
  {
   "cell_type": "markdown",
   "id": "f743b3cf",
   "metadata": {},
   "source": [
    "### Most of the customers are married. The distribution of order frequencies is the same for every marital status."
   ]
  },
  {
   "cell_type": "markdown",
   "id": "0b3e5096",
   "metadata": {},
   "source": [
    "# 6. What different classifications does the demographic information suggest?\n",
    "## Age? Income? Certain types of goods? Family status?"
   ]
  },
  {
   "cell_type": "code",
   "execution_count": 63,
   "id": "7595ffb6",
   "metadata": {},
   "outputs": [
    {
     "data": {
      "text/plain": [
       "married                             21743711\n",
       "single                               5094410\n",
       "divorced/widowed                     2645271\n",
       "living with parents and siblings     1481172\n",
       "Name: fam_status, dtype: int64"
      ]
     },
     "execution_count": 63,
     "metadata": {},
     "output_type": "execute_result"
    }
   ],
   "source": [
    "# exploring family status\n",
    "\n",
    "df_new[\"fam_status\"].value_counts(dropna = False)"
   ]
  },
  {
   "cell_type": "code",
   "execution_count": 64,
   "id": "a6d0309d",
   "metadata": {
    "scrolled": true
   },
   "outputs": [
    {
     "data": {
      "text/plain": [
       "49.4680256760599"
      ]
     },
     "execution_count": 64,
     "metadata": {},
     "output_type": "execute_result"
    }
   ],
   "source": [
    "# exploring Age\n",
    "\n",
    "df_new[\"Age\"].mean()"
   ]
  },
  {
   "cell_type": "code",
   "execution_count": 70,
   "id": "d18b47c9",
   "metadata": {},
   "outputs": [
    {
     "data": {
      "text/html": [
       "<div>\n",
       "<style scoped>\n",
       "    .dataframe tbody tr th:only-of-type {\n",
       "        vertical-align: middle;\n",
       "    }\n",
       "\n",
       "    .dataframe tbody tr th {\n",
       "        vertical-align: top;\n",
       "    }\n",
       "\n",
       "    .dataframe thead tr th {\n",
       "        text-align: left;\n",
       "    }\n",
       "\n",
       "    .dataframe thead tr:last-of-type th {\n",
       "        text-align: right;\n",
       "    }\n",
       "</style>\n",
       "<table border=\"1\" class=\"dataframe\">\n",
       "  <thead>\n",
       "    <tr>\n",
       "      <th></th>\n",
       "      <th colspan=\"3\" halign=\"left\">Age</th>\n",
       "    </tr>\n",
       "    <tr>\n",
       "      <th></th>\n",
       "      <th>mean</th>\n",
       "      <th>min</th>\n",
       "      <th>max</th>\n",
       "    </tr>\n",
       "    <tr>\n",
       "      <th>order_frequency</th>\n",
       "      <th></th>\n",
       "      <th></th>\n",
       "      <th></th>\n",
       "    </tr>\n",
       "  </thead>\n",
       "  <tbody>\n",
       "    <tr>\n",
       "      <th>orders frequently</th>\n",
       "      <td>49.478878</td>\n",
       "      <td>18</td>\n",
       "      <td>81</td>\n",
       "    </tr>\n",
       "    <tr>\n",
       "      <th>orders seldomly</th>\n",
       "      <td>49.496016</td>\n",
       "      <td>18</td>\n",
       "      <td>81</td>\n",
       "    </tr>\n",
       "    <tr>\n",
       "      <th>orders sometimes</th>\n",
       "      <td>49.422703</td>\n",
       "      <td>18</td>\n",
       "      <td>81</td>\n",
       "    </tr>\n",
       "  </tbody>\n",
       "</table>\n",
       "</div>"
      ],
      "text/plain": [
       "                         Age        \n",
       "                        mean min max\n",
       "order_frequency                     \n",
       "orders frequently  49.478878  18  81\n",
       "orders seldomly    49.496016  18  81\n",
       "orders sometimes   49.422703  18  81"
      ]
     },
     "execution_count": 70,
     "metadata": {},
     "output_type": "execute_result"
    }
   ],
   "source": [
    "df_new.groupby(\"order_frequency\").agg({\"Age\":[\"mean\", \"min\", \"max\"]})"
   ]
  },
  {
   "cell_type": "code",
   "execution_count": null,
   "id": "d65e2ba1",
   "metadata": {},
   "outputs": [],
   "source": [
    "# creating Age profile: \"maturity\"\n",
    "\n",
    "df_new.loc[df_new[\"Age\"] >= 60, \"maturity\"] = \"Old age\""
   ]
  },
  {
   "cell_type": "code",
   "execution_count": null,
   "id": "4795c0a9",
   "metadata": {},
   "outputs": [],
   "source": [
    "df_new.loc[(df_new[\"Age\"] < 60) & (df_new[\"Age\"] >= 35), \"maturity\"] = \"Middle age\""
   ]
  },
  {
   "cell_type": "code",
   "execution_count": null,
   "id": "a9a278b9",
   "metadata": {},
   "outputs": [],
   "source": [
    "df_new.loc[df_new[\"Age\"] < 35, \"maturity\"] = \"Young age\""
   ]
  },
  {
   "cell_type": "code",
   "execution_count": 92,
   "id": "9f674760",
   "metadata": {},
   "outputs": [
    {
     "data": {
      "text/plain": [
       "Middle age    12147765\n",
       "Old age       10574504\n",
       "Young age      8242295\n",
       "Name: maturity, dtype: int64"
      ]
     },
     "execution_count": 92,
     "metadata": {},
     "output_type": "execute_result"
    }
   ],
   "source": [
    "# checking output\n",
    "\n",
    "df_new[\"maturity\"].value_counts(dropna = False)"
   ]
  },
  {
   "cell_type": "code",
   "execution_count": null,
   "id": "ee3b7ad5",
   "metadata": {},
   "outputs": [],
   "source": [
    "# creating dependents profile: \"has dependent\"\n",
    "\n",
    "df_new.loc[df_new[\"number_of_dependents\"] >= 1, \"has dependent\"] = \"with dependent\""
   ]
  },
  {
   "cell_type": "code",
   "execution_count": null,
   "id": "675161f7",
   "metadata": {},
   "outputs": [],
   "source": [
    "df_new.loc[df_new[\"number_of_dependents\"] == 0, \"has dependent\"] = \"without dependent\""
   ]
  },
  {
   "cell_type": "code",
   "execution_count": 66,
   "id": "21b9c9c7",
   "metadata": {},
   "outputs": [
    {
     "data": {
      "text/plain": [
       "with dependent       23224883\n",
       "without dependent     7739681\n",
       "Name: has dependent, dtype: int64"
      ]
     },
     "execution_count": 66,
     "metadata": {},
     "output_type": "execute_result"
    }
   ],
   "source": [
    "# checking output\n",
    "\n",
    "df_new[\"has dependent\"].value_counts(dropna = False)"
   ]
  },
  {
   "cell_type": "code",
   "execution_count": 69,
   "id": "d7224aa6",
   "metadata": {},
   "outputs": [
    {
     "data": {
      "text/html": [
       "<div>\n",
       "<style scoped>\n",
       "    .dataframe tbody tr th:only-of-type {\n",
       "        vertical-align: middle;\n",
       "    }\n",
       "\n",
       "    .dataframe tbody tr th {\n",
       "        vertical-align: top;\n",
       "    }\n",
       "\n",
       "    .dataframe thead tr th {\n",
       "        text-align: left;\n",
       "    }\n",
       "\n",
       "    .dataframe thead tr:last-of-type th {\n",
       "        text-align: right;\n",
       "    }\n",
       "</style>\n",
       "<table border=\"1\" class=\"dataframe\">\n",
       "  <thead>\n",
       "    <tr>\n",
       "      <th></th>\n",
       "      <th colspan=\"3\" halign=\"left\">income</th>\n",
       "    </tr>\n",
       "    <tr>\n",
       "      <th></th>\n",
       "      <th>mean</th>\n",
       "      <th>min</th>\n",
       "      <th>max</th>\n",
       "    </tr>\n",
       "    <tr>\n",
       "      <th>order_frequency</th>\n",
       "      <th></th>\n",
       "      <th></th>\n",
       "      <th></th>\n",
       "    </tr>\n",
       "  </thead>\n",
       "  <tbody>\n",
       "    <tr>\n",
       "      <th>orders frequently</th>\n",
       "      <td>100055.072242</td>\n",
       "      <td>25955</td>\n",
       "      <td>593901</td>\n",
       "    </tr>\n",
       "    <tr>\n",
       "      <th>orders seldomly</th>\n",
       "      <td>97542.010727</td>\n",
       "      <td>25911</td>\n",
       "      <td>544217</td>\n",
       "    </tr>\n",
       "    <tr>\n",
       "      <th>orders sometimes</th>\n",
       "      <td>99404.429883</td>\n",
       "      <td>25903</td>\n",
       "      <td>590790</td>\n",
       "    </tr>\n",
       "  </tbody>\n",
       "</table>\n",
       "</div>"
      ],
      "text/plain": [
       "                          income               \n",
       "                            mean    min     max\n",
       "order_frequency                                \n",
       "orders frequently  100055.072242  25955  593901\n",
       "orders seldomly     97542.010727  25911  544217\n",
       "orders sometimes    99404.429883  25903  590790"
      ]
     },
     "execution_count": 69,
     "metadata": {},
     "output_type": "execute_result"
    }
   ],
   "source": [
    "# exploring income\n",
    "\n",
    "df_new.groupby(\"order_frequency\").agg({\"income\":[\"mean\", \"min\", \"max\"]})"
   ]
  },
  {
   "cell_type": "code",
   "execution_count": 101,
   "id": "a6b662c8",
   "metadata": {},
   "outputs": [
    {
     "data": {
      "text/html": [
       "<div>\n",
       "<style scoped>\n",
       "    .dataframe tbody tr th:only-of-type {\n",
       "        vertical-align: middle;\n",
       "    }\n",
       "\n",
       "    .dataframe tbody tr th {\n",
       "        vertical-align: top;\n",
       "    }\n",
       "\n",
       "    .dataframe thead tr th {\n",
       "        text-align: left;\n",
       "    }\n",
       "\n",
       "    .dataframe thead tr:last-of-type th {\n",
       "        text-align: right;\n",
       "    }\n",
       "</style>\n",
       "<table border=\"1\" class=\"dataframe\">\n",
       "  <thead>\n",
       "    <tr>\n",
       "      <th></th>\n",
       "      <th colspan=\"3\" halign=\"left\">income</th>\n",
       "    </tr>\n",
       "    <tr>\n",
       "      <th></th>\n",
       "      <th>mean</th>\n",
       "      <th>min</th>\n",
       "      <th>max</th>\n",
       "    </tr>\n",
       "    <tr>\n",
       "      <th>maturity</th>\n",
       "      <th></th>\n",
       "      <th></th>\n",
       "      <th></th>\n",
       "    </tr>\n",
       "  </thead>\n",
       "  <tbody>\n",
       "    <tr>\n",
       "      <th>Middle age</th>\n",
       "      <td>105228.257378</td>\n",
       "      <td>25903</td>\n",
       "      <td>592409</td>\n",
       "    </tr>\n",
       "    <tr>\n",
       "      <th>Old age</th>\n",
       "      <td>115971.684913</td>\n",
       "      <td>29001</td>\n",
       "      <td>593901</td>\n",
       "    </tr>\n",
       "    <tr>\n",
       "      <th>Young age</th>\n",
       "      <td>70585.742974</td>\n",
       "      <td>25911</td>\n",
       "      <td>396364</td>\n",
       "    </tr>\n",
       "  </tbody>\n",
       "</table>\n",
       "</div>"
      ],
      "text/plain": [
       "                   income               \n",
       "                     mean    min     max\n",
       "maturity                                \n",
       "Middle age  105228.257378  25903  592409\n",
       "Old age     115971.684913  29001  593901\n",
       "Young age    70585.742974  25911  396364"
      ]
     },
     "execution_count": 101,
     "metadata": {},
     "output_type": "execute_result"
    }
   ],
   "source": [
    "df_new.groupby(\"maturity\").agg({\"income\":[\"mean\", \"min\", \"max\"]})"
   ]
  },
  {
   "cell_type": "code",
   "execution_count": 141,
   "id": "59624db4",
   "metadata": {},
   "outputs": [
    {
     "data": {
      "text/plain": [
       "count    3.096456e+07\n",
       "mean     9.967587e+04\n",
       "std      4.314187e+04\n",
       "min      2.590300e+04\n",
       "25%      6.729200e+04\n",
       "50%      9.676500e+04\n",
       "75%      1.281020e+05\n",
       "max      5.939010e+05\n",
       "Name: income, dtype: float64"
      ]
     },
     "execution_count": 141,
     "metadata": {},
     "output_type": "execute_result"
    }
   ],
   "source": [
    "df_new[\"income\"].describe()"
   ]
  },
  {
   "cell_type": "code",
   "execution_count": 142,
   "id": "dc9a9f28",
   "metadata": {},
   "outputs": [],
   "source": [
    "# defining income profile -- dropping this, since customers don't usually leave their income info when ordering online.\n",
    "\n",
    "df_new.loc[df_new[\"income\"] <= 67292, \"income level\"] = \"low income\""
   ]
  },
  {
   "cell_type": "code",
   "execution_count": 143,
   "id": "04fc64ee",
   "metadata": {},
   "outputs": [],
   "source": [
    "df_new.loc[(df_new[\"income\"] <= 128102) & (df_new[\"income\"] > 67292), \"income level\"] = \"medium income\""
   ]
  },
  {
   "cell_type": "code",
   "execution_count": 144,
   "id": "a81ee267",
   "metadata": {},
   "outputs": [],
   "source": [
    "df_new.loc[df_new[\"income\"] >128102, \"income level\"] = \"high income\""
   ]
  },
  {
   "cell_type": "code",
   "execution_count": 145,
   "id": "f9a0ee3e",
   "metadata": {},
   "outputs": [
    {
     "data": {
      "text/plain": [
       "medium income    15482125\n",
       "low income        7741348\n",
       "high income       7741091\n",
       "Name: income level, dtype: int64"
      ]
     },
     "execution_count": 145,
     "metadata": {},
     "output_type": "execute_result"
    }
   ],
   "source": [
    "df_new[\"income level\"].value_counts(dropna = False)"
   ]
  },
  {
   "cell_type": "code",
   "execution_count": 146,
   "id": "ed072d6b",
   "metadata": {},
   "outputs": [
    {
     "data": {
      "text/plain": [
       "Text(0, 0.5, '')"
      ]
     },
     "execution_count": 146,
     "metadata": {},
     "output_type": "execute_result"
    },
    {
     "data": {
      "image/png": "[encoded data removed]",
      "text/plain": [
       "<Figure size 640x480 with 1 Axes>"
      ]
     },
     "metadata": {},
     "output_type": "display_data"
    }
   ],
   "source": [
    "# not using this, as the division into those income levels was based on Quartiles and therefore wrongly assigned.\n",
    "\n",
    "pie_income_level = df_new[\"income level\"].value_counts().sort_index().plot.pie()\n",
    "plt.title(\"Distribution of customers according to income level\")\n",
    "plt.ylabel(\"\")"
   ]
  },
  {
   "cell_type": "code",
   "execution_count": 13,
   "id": "502201c1",
   "metadata": {},
   "outputs": [],
   "source": [
    "# exporting pie chart\n",
    "\n",
    "pie_income_level.figure.savefig(os.path.join(path,\"04 Analysis\", \"Visualizations\", \"pie_income_lvl.png\"))"
   ]
  },
  {
   "cell_type": "code",
   "execution_count": 5,
   "id": "70a14298",
   "metadata": {},
   "outputs": [],
   "source": [
    "# creating df with frequency check of product_id\n",
    "\n",
    "product_counts = df_new['product_id'].value_counts()"
   ]
  },
  {
   "cell_type": "code",
   "execution_count": 6,
   "id": "ecff7914",
   "metadata": {},
   "outputs": [],
   "source": [
    "# defining N = 10 for top ten product_id\n",
    "\n",
    "N = 10"
   ]
  },
  {
   "cell_type": "code",
   "execution_count": 7,
   "id": "6eea8dbe",
   "metadata": {},
   "outputs": [],
   "source": [
    "# creating new df top_products with N frequent product_ids\n",
    "\n",
    "top_products = product_counts.head(N).index"
   ]
  },
  {
   "cell_type": "code",
   "execution_count": 8,
   "id": "c977a903",
   "metadata": {},
   "outputs": [
    {
     "data": {
      "text/plain": [
       "Int64Index([24852, 13176, 21137, 21903, 47209, 47766, 47626, 16797, 26209,\n",
       "            27845],\n",
       "           dtype='int64')"
      ]
     },
     "execution_count": 8,
     "metadata": {},
     "output_type": "execute_result"
    }
   ],
   "source": [
    "# checking output\n",
    "\n",
    "top_products"
   ]
  },
  {
   "cell_type": "code",
   "execution_count": 11,
   "id": "e9dcf7ee",
   "metadata": {},
   "outputs": [],
   "source": [
    "# creating new df with N frequent product_ids filtered out of df_new\n",
    "\n",
    "filtered_df = df_new[df_new['product_id'].isin(top_products)]"
   ]
  },
  {
   "cell_type": "code",
   "execution_count": 10,
   "id": "3aadf846",
   "metadata": {},
   "outputs": [
    {
     "name": "stdout",
     "output_type": "stream",
     "text": [
      "          user_id  Gender     State  Age  number_of_dependents fam_status  \\\n",
      "2572044     82820    Male  Virginia   26                     2    married   \n",
      "2572045     82820    Male  Virginia   26                     2    married   \n",
      "2572046     82820    Male  Virginia   26                     2    married   \n",
      "2572047     82820    Male  Virginia   26                     2    married   \n",
      "2572048     82820    Male  Virginia   26                     2    married   \n",
      "...           ...     ...       ...  ...                   ...        ...   \n",
      "16828253   197067  Female   Arizona   42                     0     single   \n",
      "16828254   197067  Female   Arizona   42                     0     single   \n",
      "16828255   197067  Female   Arizona   42                     0     single   \n",
      "16828256   197067  Female   Arizona   42                     0     single   \n",
      "16828257   197067  Female   Arizona   42                     0     single   \n",
      "\n",
      "          income  order_id  amount_of_orders  orders_day_of_week  \\\n",
      "2572044    32072   1441552                 3                   0   \n",
      "2572045    32072   1438550                 5                   4   \n",
      "2572046    32072   1627872                 6                   3   \n",
      "2572047    32072   1756351                 7                   2   \n",
      "2572048    32072    948719                13                   2   \n",
      "...          ...       ...               ...                 ...   \n",
      "16828253  114821    727779                 2                   3   \n",
      "16828254  114821    627153                 4                   4   \n",
      "16828255  114821    374283                 6                   1   \n",
      "16828256  114821   2809404                 7                   5   \n",
      "16828257  114821   2482104                10                   0   \n",
      "\n",
      "          order_hour_of_day  days_since_prior_order  product_id  \\\n",
      "2572044                  16                    11.0       27845   \n",
      "2572045                  13                    11.0       27845   \n",
      "2572046                  11                     6.0       27845   \n",
      "2572047                  15                    30.0       27845   \n",
      "2572048                  14                    21.0       27845   \n",
      "...                     ...                     ...         ...   \n",
      "16828253                 18                     4.0       21903   \n",
      "16828254                 11                     6.0       21903   \n",
      "16828255                 11                     7.0       21903   \n",
      "16828256                  8                     4.0       21903   \n",
      "16828257                  8                    21.0       21903   \n",
      "\n",
      "          add_to_cart_order  reordered          product_name  department_id  \\\n",
      "2572044                   4          0    Organic Whole Milk             16   \n",
      "2572045                   6          1    Organic Whole Milk             16   \n",
      "2572046                   6          1    Organic Whole Milk             16   \n",
      "2572047                   3          1    Organic Whole Milk             16   \n",
      "2572048                   3          1    Organic Whole Milk             16   \n",
      "...                     ...        ...                   ...            ...   \n",
      "16828253                  1          1  Organic Baby Spinach              4   \n",
      "16828254                  1          1  Organic Baby Spinach              4   \n",
      "16828255                  1          1  Organic Baby Spinach              4   \n",
      "16828256                  1          1  Organic Baby Spinach              4   \n",
      "16828257                  1          1  Organic Baby Spinach              4   \n",
      "\n",
      "          prices    price_range_loc    busiest_days busiest_period_of_day  \\\n",
      "2572044     12.8  Mid-range product    Busiest days        Average orders   \n",
      "2572045     12.8  Mid-range product      Least busy           Most orders   \n",
      "2572046     12.8  Mid-range product      Least busy           Most orders   \n",
      "2572047     12.8  Mid-range product  Regularly busy           Most orders   \n",
      "2572048     12.8  Mid-range product  Regularly busy           Most orders   \n",
      "...          ...                ...             ...                   ...   \n",
      "16828253     8.2  Mid-range product      Least busy        Average orders   \n",
      "16828254     8.2  Mid-range product      Least busy           Most orders   \n",
      "16828255     8.2  Mid-range product    Busiest days           Most orders   \n",
      "16828256     8.2  Mid-range product  Regularly busy        Average orders   \n",
      "16828257     8.2  Mid-range product    Busiest days        Average orders   \n",
      "\n",
      "          max_order      loyalty_flag  average_spending spending_flag  \\\n",
      "2572044          19  Regular customer                 6   Low spender   \n",
      "2572045          19  Regular customer                 6   Low spender   \n",
      "2572046          19  Regular customer                 6   Low spender   \n",
      "2572047          19  Regular customer                 6   Low spender   \n",
      "2572048          19  Regular customer                 6   Low spender   \n",
      "...             ...               ...               ...           ...   \n",
      "16828253         29  Regular customer                 7   Low spender   \n",
      "16828254         29  Regular customer                 7   Low spender   \n",
      "16828255         29  Regular customer                 7   Low spender   \n",
      "16828256         29  Regular customer                 7   Low spender   \n",
      "16828257         29  Regular customer                 7   Low spender   \n",
      "\n",
      "          median_days_previous_order    order_frequency Region order_activity  \\\n",
      "2572044                         11.0   Regular customer  South  High activity   \n",
      "2572045                         11.0   Regular customer  South  High activity   \n",
      "2572046                         11.0   Regular customer  South  High activity   \n",
      "2572047                         11.0   Regular customer  South  High activity   \n",
      "2572048                         11.0   Regular customer  South  High activity   \n",
      "...                              ...                ...    ...            ...   \n",
      "16828253                         7.0  Frequent customer   West  High activity   \n",
      "16828254                         7.0  Frequent customer   West  High activity   \n",
      "16828255                         7.0  Frequent customer   West  High activity   \n",
      "16828256                         7.0  Frequent customer   West  High activity   \n",
      "16828257                         7.0  Frequent customer   West  High activity   \n",
      "\n",
      "          department _merge    maturity      has dependent  \\\n",
      "2572044   dairy eggs   both   Young age     with dependent   \n",
      "2572045   dairy eggs   both   Young age     with dependent   \n",
      "2572046   dairy eggs   both   Young age     with dependent   \n",
      "2572047   dairy eggs   both   Young age     with dependent   \n",
      "2572048   dairy eggs   both   Young age     with dependent   \n",
      "...              ...    ...         ...                ...   \n",
      "16828253     produce   both  Middle age  without dependent   \n",
      "16828254     produce   both  Middle age  without dependent   \n",
      "16828255     produce   both  Middle age  without dependent   \n",
      "16828256     produce   both  Middle age  without dependent   \n",
      "16828257     produce   both  Middle age  without dependent   \n",
      "\n",
      "               profile agexdependent income level  \n",
      "2572044   Young Adult with dependent   low income  \n",
      "2572045   Young Adult with dependent   low income  \n",
      "2572046   Young Adult with dependent   low income  \n",
      "2572047   Young Adult with dependent   low income  \n",
      "2572048   Young Adult with dependent   low income  \n",
      "...                              ...          ...  \n",
      "16828253     Adult without dependent  high income  \n",
      "16828254     Adult without dependent  high income  \n",
      "16828255     Adult without dependent  high income  \n",
      "16828256     Adult without dependent  high income  \n",
      "16828257     Adult without dependent  high income  \n",
      "\n",
      "[2232385 rows x 35 columns]\n"
     ]
    }
   ],
   "source": [
    "print(filtered_df)"
   ]
  },
  {
   "cell_type": "code",
   "execution_count": 84,
   "id": "7c193cbe",
   "metadata": {},
   "outputs": [
    {
     "data": {
      "text/plain": [
       "Text(0.5, 0, 'count of orders')"
      ]
     },
     "execution_count": 84,
     "metadata": {},
     "output_type": "execute_result"
    },
    {
     "data": {
      "image/png": "[encoded data removed]",
      "text/plain": [
       "<Figure size 640x480 with 1 Axes>"
      ]
     },
     "metadata": {},
     "output_type": "display_data"
    }
   ],
   "source": [
    "bar_product = filtered_df[\"product_name\"].value_counts().sort_values().plot.barh()\n",
    "plt.title(\"Top 10 most frequently ordered products\")\n",
    "plt.ylabel(\"\")\n",
    "plt.xlabel(\"count of orders\")"
   ]
  },
  {
   "cell_type": "markdown",
   "id": "9dcb3975",
   "metadata": {},
   "source": [
    "### 9 out of 10 most frequently ordered products are produce. This suggests that instacart customers primarily use the App for groceries. 6 out of 10 are products labelled as \"organic\". This suggests that customers prefer organic food."
   ]
  },
  {
   "cell_type": "markdown",
   "id": "2869c5ac",
   "metadata": {},
   "source": [
    "# 7. Creating customer profiles"
   ]
  },
  {
   "cell_type": "code",
   "execution_count": null,
   "id": "11828ebc",
   "metadata": {},
   "outputs": [],
   "source": [
    "# combining \"maturity\" & \"has dependent\" to create \"profile agexdependent\":\n",
    "\n",
    "df_new.loc[(df_new[\"maturity\"] == \"Old age\") & (df_new[\"has dependent\"] == \"with dependent\"), \n",
    "           \"profile agexdependent\"] = \"Senior with dependent\""
   ]
  },
  {
   "cell_type": "code",
   "execution_count": null,
   "id": "bc170503",
   "metadata": {},
   "outputs": [],
   "source": [
    "df_new.loc[(df_new[\"maturity\"] == \"Old age\") & (df_new[\"has dependent\"] == \"without dependent\"), \n",
    "           \"profile agexdependent\"] = \"Senior without dependent\""
   ]
  },
  {
   "cell_type": "code",
   "execution_count": null,
   "id": "daa4a177",
   "metadata": {},
   "outputs": [],
   "source": [
    "df_new.loc[(df_new[\"maturity\"] == \"Middle age\") & (df_new[\"has dependent\"] == \"with dependent\"), \n",
    "           \"profile agexdependent\"] = \"Adult with dependent\""
   ]
  },
  {
   "cell_type": "code",
   "execution_count": null,
   "id": "64e19e8d",
   "metadata": {},
   "outputs": [],
   "source": [
    "df_new.loc[(df_new[\"maturity\"] == \"Middle age\") & (df_new[\"has dependent\"] == \"without dependent\"), \n",
    "           \"profile agexdependent\"] = \"Adult without dependent\""
   ]
  },
  {
   "cell_type": "code",
   "execution_count": null,
   "id": "50017d2f",
   "metadata": {},
   "outputs": [],
   "source": [
    "df_new.loc[(df_new[\"maturity\"] == \"Young age\") & (df_new[\"has dependent\"] == \"with dependent\"), \n",
    "           \"profile agexdependent\"] = \"Young Adult with dependent\""
   ]
  },
  {
   "cell_type": "code",
   "execution_count": null,
   "id": "89bb94a7",
   "metadata": {},
   "outputs": [],
   "source": [
    "df_new.loc[(df_new[\"maturity\"] == \"Young age\") & (df_new[\"has dependent\"] == \"without dependent\"), \n",
    "           \"profile agexdependent\"] = \"Young Adult without dependent\""
   ]
  },
  {
   "cell_type": "code",
   "execution_count": 28,
   "id": "358c5380",
   "metadata": {},
   "outputs": [],
   "source": [
    "# renaming values \"with dependent\" to \"+1\" for abbreviation in charts\n",
    "\n",
    "df_new['profile agexdependent'] = df_new['profile agexdependent'].str.replace(' with dependent', '+1')"
   ]
  },
  {
   "cell_type": "code",
   "execution_count": 29,
   "id": "a2925c78",
   "metadata": {},
   "outputs": [],
   "source": [
    "# renaming values \"without dependent\" to \" \" for abbreviation in charts\n",
    "\n",
    "df_new['profile agexdependent'] = df_new['profile agexdependent'].str.replace(' without dependent', ' ')"
   ]
  },
  {
   "cell_type": "code",
   "execution_count": 93,
   "id": "909b9b2c",
   "metadata": {},
   "outputs": [
    {
     "data": {
      "text/plain": [
       "Adult+1          9116913\n",
       "Senior+1         7929233\n",
       "Young Adult+1    6178737\n",
       "Adult            3030852\n",
       "Senior           2645271\n",
       "Young Adult      2063558\n",
       "Name: profile agexdependent, dtype: int64"
      ]
     },
     "execution_count": 93,
     "metadata": {},
     "output_type": "execute_result"
    }
   ],
   "source": [
    "# checking output\n",
    "\n",
    "df_new[\"profile agexdependent\"].value_counts(dropna =False)"
   ]
  },
  {
   "cell_type": "code",
   "execution_count": null,
   "id": "641a4713",
   "metadata": {},
   "outputs": [],
   "source": [
    "# creating visualization\n",
    "\n",
    "bar_agexdep = df_new[\"profile agexdependent\"].value_counts(ascending = True).plot.barh(color = [\"lightgreen\", \"lightgreen\", \"lightgreen\", \"green\", \"green\", \"green\"])\n",
    "plt.title(\"Distribution of customers according to age and dependents\")\n",
    "plt.xlabel(\"Number of customers per million\")"
   ]
  },
  {
   "cell_type": "markdown",
   "id": "e3f7ee82",
   "metadata": {},
   "source": [
    "#### In this chart we can see that most of the Instacart customers are people with dependents."
   ]
  },
  {
   "cell_type": "code",
   "execution_count": null,
   "id": "d5cac7ab",
   "metadata": {},
   "outputs": [],
   "source": [
    "# exporting bar_agexdep\n",
    "\n",
    "bar_agexdep.figure.savefig(os.path.join(path, \"04 Analysis\", \"Visualizations\", \"bar_agexdep.png\"))"
   ]
  },
  {
   "cell_type": "code",
   "execution_count": 156,
   "id": "782eda2f",
   "metadata": {},
   "outputs": [],
   "source": [
    "# creating sum_per_order column for the total amount spent per order\n",
    "\n",
    "df_new[\"sum_per_order\"] = df_new.groupby(\"order_id\")[\"prices\"].transform(np.sum)"
   ]
  },
  {
   "cell_type": "code",
   "execution_count": 158,
   "id": "4eadd55c",
   "metadata": {
    "scrolled": true
   },
   "outputs": [
    {
     "data": {
      "text/html": [
       "<div>\n",
       "<style scoped>\n",
       "    .dataframe tbody tr th:only-of-type {\n",
       "        vertical-align: middle;\n",
       "    }\n",
       "\n",
       "    .dataframe tbody tr th {\n",
       "        vertical-align: top;\n",
       "    }\n",
       "\n",
       "    .dataframe thead th {\n",
       "        text-align: right;\n",
       "    }\n",
       "</style>\n",
       "<table border=\"1\" class=\"dataframe\">\n",
       "  <thead>\n",
       "    <tr style=\"text-align: right;\">\n",
       "      <th></th>\n",
       "      <th>user_id</th>\n",
       "      <th>Gender</th>\n",
       "      <th>State</th>\n",
       "      <th>Age</th>\n",
       "      <th>number_of_dependents</th>\n",
       "      <th>fam_status</th>\n",
       "      <th>income</th>\n",
       "      <th>order_id</th>\n",
       "      <th>amount_of_orders</th>\n",
       "      <th>orders_day_of_week</th>\n",
       "      <th>order_hour_of_day</th>\n",
       "      <th>days_since_prior_order</th>\n",
       "      <th>product_id</th>\n",
       "      <th>add_to_cart_order</th>\n",
       "      <th>reordered</th>\n",
       "      <th>product_name</th>\n",
       "      <th>department_id</th>\n",
       "      <th>prices</th>\n",
       "      <th>price_range_loc</th>\n",
       "      <th>busiest_days</th>\n",
       "      <th>busiest_period_of_day</th>\n",
       "      <th>max_order</th>\n",
       "      <th>loyalty_flag</th>\n",
       "      <th>average_spending</th>\n",
       "      <th>spending_flag</th>\n",
       "      <th>median_days_previous_order</th>\n",
       "      <th>order_frequency</th>\n",
       "      <th>Region</th>\n",
       "      <th>order_activity</th>\n",
       "      <th>department</th>\n",
       "      <th>_merge</th>\n",
       "      <th>maturity</th>\n",
       "      <th>has dependent</th>\n",
       "      <th>profile agexdependent</th>\n",
       "      <th>income level</th>\n",
       "      <th>sum_per_order</th>\n",
       "    </tr>\n",
       "  </thead>\n",
       "  <tbody>\n",
       "    <tr>\n",
       "      <th>0</th>\n",
       "      <td>26711</td>\n",
       "      <td>Female</td>\n",
       "      <td>Missouri</td>\n",
       "      <td>48</td>\n",
       "      <td>3</td>\n",
       "      <td>married</td>\n",
       "      <td>165665</td>\n",
       "      <td>2543867</td>\n",
       "      <td>5</td>\n",
       "      <td>1</td>\n",
       "      <td>9</td>\n",
       "      <td>30.0</td>\n",
       "      <td>196</td>\n",
       "      <td>2</td>\n",
       "      <td>0</td>\n",
       "      <td>Soda</td>\n",
       "      <td>7</td>\n",
       "      <td>9.0</td>\n",
       "      <td>Mid-range product</td>\n",
       "      <td>Busiest days</td>\n",
       "      <td>Average orders</td>\n",
       "      <td>8</td>\n",
       "      <td>New customer</td>\n",
       "      <td>7</td>\n",
       "      <td>Low spender</td>\n",
       "      <td>19.0</td>\n",
       "      <td>orders sometimes</td>\n",
       "      <td>Midwest</td>\n",
       "      <td>High activity</td>\n",
       "      <td>beverages</td>\n",
       "      <td>both</td>\n",
       "      <td>Middle age</td>\n",
       "      <td>with dependent</td>\n",
       "      <td>Adult+1</td>\n",
       "      <td>high income</td>\n",
       "      <td>17.299999</td>\n",
       "    </tr>\n",
       "    <tr>\n",
       "      <th>1</th>\n",
       "      <td>26711</td>\n",
       "      <td>Female</td>\n",
       "      <td>Missouri</td>\n",
       "      <td>48</td>\n",
       "      <td>3</td>\n",
       "      <td>married</td>\n",
       "      <td>165665</td>\n",
       "      <td>1285508</td>\n",
       "      <td>7</td>\n",
       "      <td>5</td>\n",
       "      <td>15</td>\n",
       "      <td>11.0</td>\n",
       "      <td>196</td>\n",
       "      <td>1</td>\n",
       "      <td>1</td>\n",
       "      <td>Soda</td>\n",
       "      <td>7</td>\n",
       "      <td>9.0</td>\n",
       "      <td>Mid-range product</td>\n",
       "      <td>Regularly busy</td>\n",
       "      <td>Most orders</td>\n",
       "      <td>8</td>\n",
       "      <td>New customer</td>\n",
       "      <td>7</td>\n",
       "      <td>Low spender</td>\n",
       "      <td>19.0</td>\n",
       "      <td>orders sometimes</td>\n",
       "      <td>Midwest</td>\n",
       "      <td>High activity</td>\n",
       "      <td>beverages</td>\n",
       "      <td>both</td>\n",
       "      <td>Middle age</td>\n",
       "      <td>with dependent</td>\n",
       "      <td>Adult+1</td>\n",
       "      <td>high income</td>\n",
       "      <td>25.900002</td>\n",
       "    </tr>\n",
       "    <tr>\n",
       "      <th>2</th>\n",
       "      <td>26711</td>\n",
       "      <td>Female</td>\n",
       "      <td>Missouri</td>\n",
       "      <td>48</td>\n",
       "      <td>3</td>\n",
       "      <td>married</td>\n",
       "      <td>165665</td>\n",
       "      <td>2578584</td>\n",
       "      <td>8</td>\n",
       "      <td>1</td>\n",
       "      <td>15</td>\n",
       "      <td>10.0</td>\n",
       "      <td>196</td>\n",
       "      <td>2</td>\n",
       "      <td>1</td>\n",
       "      <td>Soda</td>\n",
       "      <td>7</td>\n",
       "      <td>9.0</td>\n",
       "      <td>Mid-range product</td>\n",
       "      <td>Busiest days</td>\n",
       "      <td>Most orders</td>\n",
       "      <td>8</td>\n",
       "      <td>New customer</td>\n",
       "      <td>7</td>\n",
       "      <td>Low spender</td>\n",
       "      <td>19.0</td>\n",
       "      <td>orders sometimes</td>\n",
       "      <td>Midwest</td>\n",
       "      <td>High activity</td>\n",
       "      <td>beverages</td>\n",
       "      <td>both</td>\n",
       "      <td>Middle age</td>\n",
       "      <td>with dependent</td>\n",
       "      <td>Adult+1</td>\n",
       "      <td>high income</td>\n",
       "      <td>25.900002</td>\n",
       "    </tr>\n",
       "    <tr>\n",
       "      <th>3</th>\n",
       "      <td>33890</td>\n",
       "      <td>Female</td>\n",
       "      <td>New Mexico</td>\n",
       "      <td>36</td>\n",
       "      <td>0</td>\n",
       "      <td>single</td>\n",
       "      <td>59285</td>\n",
       "      <td>1044841</td>\n",
       "      <td>3</td>\n",
       "      <td>6</td>\n",
       "      <td>11</td>\n",
       "      <td>30.0</td>\n",
       "      <td>196</td>\n",
       "      <td>1</td>\n",
       "      <td>0</td>\n",
       "      <td>Soda</td>\n",
       "      <td>7</td>\n",
       "      <td>9.0</td>\n",
       "      <td>Mid-range product</td>\n",
       "      <td>Regularly busy</td>\n",
       "      <td>Most orders</td>\n",
       "      <td>12</td>\n",
       "      <td>Regular customer</td>\n",
       "      <td>7</td>\n",
       "      <td>Low spender</td>\n",
       "      <td>26.0</td>\n",
       "      <td>orders seldomly</td>\n",
       "      <td>West</td>\n",
       "      <td>High activity</td>\n",
       "      <td>beverages</td>\n",
       "      <td>both</td>\n",
       "      <td>Middle age</td>\n",
       "      <td>without dependent</td>\n",
       "      <td>Adult</td>\n",
       "      <td>low income</td>\n",
       "      <td>36.599998</td>\n",
       "    </tr>\n",
       "    <tr>\n",
       "      <th>4</th>\n",
       "      <td>33890</td>\n",
       "      <td>Female</td>\n",
       "      <td>New Mexico</td>\n",
       "      <td>36</td>\n",
       "      <td>0</td>\n",
       "      <td>single</td>\n",
       "      <td>59285</td>\n",
       "      <td>474720</td>\n",
       "      <td>4</td>\n",
       "      <td>1</td>\n",
       "      <td>20</td>\n",
       "      <td>16.0</td>\n",
       "      <td>196</td>\n",
       "      <td>6</td>\n",
       "      <td>1</td>\n",
       "      <td>Soda</td>\n",
       "      <td>7</td>\n",
       "      <td>9.0</td>\n",
       "      <td>Mid-range product</td>\n",
       "      <td>Busiest days</td>\n",
       "      <td>Average orders</td>\n",
       "      <td>12</td>\n",
       "      <td>Regular customer</td>\n",
       "      <td>7</td>\n",
       "      <td>Low spender</td>\n",
       "      <td>26.0</td>\n",
       "      <td>orders seldomly</td>\n",
       "      <td>West</td>\n",
       "      <td>High activity</td>\n",
       "      <td>beverages</td>\n",
       "      <td>both</td>\n",
       "      <td>Middle age</td>\n",
       "      <td>without dependent</td>\n",
       "      <td>Adult</td>\n",
       "      <td>low income</td>\n",
       "      <td>48.000000</td>\n",
       "    </tr>\n",
       "  </tbody>\n",
       "</table>\n",
       "</div>"
      ],
      "text/plain": [
       "   user_id  Gender       State  Age  number_of_dependents fam_status  income  \\\n",
       "0    26711  Female    Missouri   48                     3    married  165665   \n",
       "1    26711  Female    Missouri   48                     3    married  165665   \n",
       "2    26711  Female    Missouri   48                     3    married  165665   \n",
       "3    33890  Female  New Mexico   36                     0     single   59285   \n",
       "4    33890  Female  New Mexico   36                     0     single   59285   \n",
       "\n",
       "   order_id  amount_of_orders  orders_day_of_week  order_hour_of_day  \\\n",
       "0   2543867                 5                   1                  9   \n",
       "1   1285508                 7                   5                 15   \n",
       "2   2578584                 8                   1                 15   \n",
       "3   1044841                 3                   6                 11   \n",
       "4    474720                 4                   1                 20   \n",
       "\n",
       "   days_since_prior_order  product_id  add_to_cart_order  reordered  \\\n",
       "0                    30.0         196                  2          0   \n",
       "1                    11.0         196                  1          1   \n",
       "2                    10.0         196                  2          1   \n",
       "3                    30.0         196                  1          0   \n",
       "4                    16.0         196                  6          1   \n",
       "\n",
       "  product_name  department_id  prices    price_range_loc    busiest_days  \\\n",
       "0         Soda              7     9.0  Mid-range product    Busiest days   \n",
       "1         Soda              7     9.0  Mid-range product  Regularly busy   \n",
       "2         Soda              7     9.0  Mid-range product    Busiest days   \n",
       "3         Soda              7     9.0  Mid-range product  Regularly busy   \n",
       "4         Soda              7     9.0  Mid-range product    Busiest days   \n",
       "\n",
       "  busiest_period_of_day  max_order      loyalty_flag  average_spending  \\\n",
       "0        Average orders          8      New customer                 7   \n",
       "1           Most orders          8      New customer                 7   \n",
       "2           Most orders          8      New customer                 7   \n",
       "3           Most orders         12  Regular customer                 7   \n",
       "4        Average orders         12  Regular customer                 7   \n",
       "\n",
       "  spending_flag  median_days_previous_order   order_frequency   Region  \\\n",
       "0   Low spender                        19.0  orders sometimes  Midwest   \n",
       "1   Low spender                        19.0  orders sometimes  Midwest   \n",
       "2   Low spender                        19.0  orders sometimes  Midwest   \n",
       "3   Low spender                        26.0   orders seldomly     West   \n",
       "4   Low spender                        26.0   orders seldomly     West   \n",
       "\n",
       "  order_activity department _merge    maturity      has dependent  \\\n",
       "0  High activity  beverages   both  Middle age     with dependent   \n",
       "1  High activity  beverages   both  Middle age     with dependent   \n",
       "2  High activity  beverages   both  Middle age     with dependent   \n",
       "3  High activity  beverages   both  Middle age  without dependent   \n",
       "4  High activity  beverages   both  Middle age  without dependent   \n",
       "\n",
       "  profile agexdependent income level  sum_per_order  \n",
       "0               Adult+1  high income      17.299999  \n",
       "1               Adult+1  high income      25.900002  \n",
       "2               Adult+1  high income      25.900002  \n",
       "3                Adult    low income      36.599998  \n",
       "4                Adult    low income      48.000000  "
      ]
     },
     "execution_count": 158,
     "metadata": {},
     "output_type": "execute_result"
    }
   ],
   "source": [
    "df_new.head(5)"
   ]
  },
  {
   "cell_type": "code",
   "execution_count": 157,
   "id": "a542a092",
   "metadata": {},
   "outputs": [
    {
     "data": {
      "text/plain": [
       "order_id\n",
       "2           91.599998\n",
       "3           70.300003\n",
       "4           92.799995\n",
       "5          210.699997\n",
       "6           27.500000\n",
       "              ...    \n",
       "3421079      1.600000\n",
       "3421080     75.800003\n",
       "3421081     79.000000\n",
       "3421082     56.400002\n",
       "3421083     69.400002\n",
       "Name: prices, Length: 3064375, dtype: float32"
      ]
     },
     "execution_count": 157,
     "metadata": {},
     "output_type": "execute_result"
    }
   ],
   "source": [
    "df_new.groupby(\"order_id\")[\"prices\"].sum()"
   ]
  },
  {
   "cell_type": "code",
   "execution_count": 160,
   "id": "81cb5119",
   "metadata": {},
   "outputs": [
    {
     "data": {
      "text/html": [
       "<div>\n",
       "<style scoped>\n",
       "    .dataframe tbody tr th:only-of-type {\n",
       "        vertical-align: middle;\n",
       "    }\n",
       "\n",
       "    .dataframe tbody tr th {\n",
       "        vertical-align: top;\n",
       "    }\n",
       "\n",
       "    .dataframe thead th {\n",
       "        text-align: right;\n",
       "    }\n",
       "</style>\n",
       "<table border=\"1\" class=\"dataframe\">\n",
       "  <thead>\n",
       "    <tr style=\"text-align: right;\">\n",
       "      <th></th>\n",
       "      <th>user_id</th>\n",
       "      <th>Gender</th>\n",
       "      <th>State</th>\n",
       "      <th>Age</th>\n",
       "      <th>number_of_dependents</th>\n",
       "      <th>fam_status</th>\n",
       "      <th>income</th>\n",
       "      <th>order_id</th>\n",
       "      <th>amount_of_orders</th>\n",
       "      <th>orders_day_of_week</th>\n",
       "      <th>order_hour_of_day</th>\n",
       "      <th>days_since_prior_order</th>\n",
       "      <th>product_id</th>\n",
       "      <th>add_to_cart_order</th>\n",
       "      <th>reordered</th>\n",
       "      <th>product_name</th>\n",
       "      <th>department_id</th>\n",
       "      <th>prices</th>\n",
       "      <th>price_range_loc</th>\n",
       "      <th>busiest_days</th>\n",
       "      <th>busiest_period_of_day</th>\n",
       "      <th>max_order</th>\n",
       "      <th>loyalty_flag</th>\n",
       "      <th>average_spending</th>\n",
       "      <th>spending_flag</th>\n",
       "      <th>median_days_previous_order</th>\n",
       "      <th>order_frequency</th>\n",
       "      <th>Region</th>\n",
       "      <th>order_activity</th>\n",
       "      <th>department</th>\n",
       "      <th>_merge</th>\n",
       "      <th>maturity</th>\n",
       "      <th>has dependent</th>\n",
       "      <th>profile agexdependent</th>\n",
       "      <th>income level</th>\n",
       "      <th>sum_per_order</th>\n",
       "    </tr>\n",
       "  </thead>\n",
       "  <tbody>\n",
       "    <tr>\n",
       "      <th>7500005</th>\n",
       "      <td>202279</td>\n",
       "      <td>Male</td>\n",
       "      <td>Idaho</td>\n",
       "      <td>57</td>\n",
       "      <td>3</td>\n",
       "      <td>married</td>\n",
       "      <td>98119</td>\n",
       "      <td>2</td>\n",
       "      <td>3</td>\n",
       "      <td>5</td>\n",
       "      <td>9</td>\n",
       "      <td>8.0</td>\n",
       "      <td>33120</td>\n",
       "      <td>1</td>\n",
       "      <td>1</td>\n",
       "      <td>Organic Egg Whites</td>\n",
       "      <td>16</td>\n",
       "      <td>11.3</td>\n",
       "      <td>Mid-range product</td>\n",
       "      <td>Regularly busy</td>\n",
       "      <td>Average orders</td>\n",
       "      <td>8</td>\n",
       "      <td>New customer</td>\n",
       "      <td>8</td>\n",
       "      <td>Low spender</td>\n",
       "      <td>24.0</td>\n",
       "      <td>orders seldomly</td>\n",
       "      <td>West</td>\n",
       "      <td>High activity</td>\n",
       "      <td>dairy eggs</td>\n",
       "      <td>both</td>\n",
       "      <td>Middle age</td>\n",
       "      <td>with dependent</td>\n",
       "      <td>Adult+1</td>\n",
       "      <td>medium income</td>\n",
       "      <td>91.599998</td>\n",
       "    </tr>\n",
       "    <tr>\n",
       "      <th>16392014</th>\n",
       "      <td>202279</td>\n",
       "      <td>Male</td>\n",
       "      <td>Idaho</td>\n",
       "      <td>57</td>\n",
       "      <td>3</td>\n",
       "      <td>married</td>\n",
       "      <td>98119</td>\n",
       "      <td>2</td>\n",
       "      <td>3</td>\n",
       "      <td>5</td>\n",
       "      <td>9</td>\n",
       "      <td>8.0</td>\n",
       "      <td>28985</td>\n",
       "      <td>2</td>\n",
       "      <td>1</td>\n",
       "      <td>Michigan Organic Kale</td>\n",
       "      <td>4</td>\n",
       "      <td>13.4</td>\n",
       "      <td>Mid-range product</td>\n",
       "      <td>Regularly busy</td>\n",
       "      <td>Average orders</td>\n",
       "      <td>8</td>\n",
       "      <td>New customer</td>\n",
       "      <td>8</td>\n",
       "      <td>Low spender</td>\n",
       "      <td>24.0</td>\n",
       "      <td>orders seldomly</td>\n",
       "      <td>West</td>\n",
       "      <td>High activity</td>\n",
       "      <td>produce</td>\n",
       "      <td>both</td>\n",
       "      <td>Middle age</td>\n",
       "      <td>with dependent</td>\n",
       "      <td>Adult+1</td>\n",
       "      <td>medium income</td>\n",
       "      <td>91.599998</td>\n",
       "    </tr>\n",
       "    <tr>\n",
       "      <th>16392019</th>\n",
       "      <td>202279</td>\n",
       "      <td>Male</td>\n",
       "      <td>Idaho</td>\n",
       "      <td>57</td>\n",
       "      <td>3</td>\n",
       "      <td>married</td>\n",
       "      <td>98119</td>\n",
       "      <td>2</td>\n",
       "      <td>3</td>\n",
       "      <td>5</td>\n",
       "      <td>9</td>\n",
       "      <td>8.0</td>\n",
       "      <td>17794</td>\n",
       "      <td>6</td>\n",
       "      <td>1</td>\n",
       "      <td>Carrots</td>\n",
       "      <td>4</td>\n",
       "      <td>10.7</td>\n",
       "      <td>Mid-range product</td>\n",
       "      <td>Regularly busy</td>\n",
       "      <td>Average orders</td>\n",
       "      <td>8</td>\n",
       "      <td>New customer</td>\n",
       "      <td>8</td>\n",
       "      <td>Low spender</td>\n",
       "      <td>24.0</td>\n",
       "      <td>orders seldomly</td>\n",
       "      <td>West</td>\n",
       "      <td>High activity</td>\n",
       "      <td>produce</td>\n",
       "      <td>both</td>\n",
       "      <td>Middle age</td>\n",
       "      <td>with dependent</td>\n",
       "      <td>Adult+1</td>\n",
       "      <td>medium income</td>\n",
       "      <td>91.599998</td>\n",
       "    </tr>\n",
       "    <tr>\n",
       "      <th>16392029</th>\n",
       "      <td>202279</td>\n",
       "      <td>Male</td>\n",
       "      <td>Idaho</td>\n",
       "      <td>57</td>\n",
       "      <td>3</td>\n",
       "      <td>married</td>\n",
       "      <td>98119</td>\n",
       "      <td>2</td>\n",
       "      <td>3</td>\n",
       "      <td>5</td>\n",
       "      <td>9</td>\n",
       "      <td>8.0</td>\n",
       "      <td>43668</td>\n",
       "      <td>9</td>\n",
       "      <td>0</td>\n",
       "      <td>Classic Blend Cole Slaw</td>\n",
       "      <td>4</td>\n",
       "      <td>7.5</td>\n",
       "      <td>Mid-range product</td>\n",
       "      <td>Regularly busy</td>\n",
       "      <td>Average orders</td>\n",
       "      <td>8</td>\n",
       "      <td>New customer</td>\n",
       "      <td>8</td>\n",
       "      <td>Low spender</td>\n",
       "      <td>24.0</td>\n",
       "      <td>orders seldomly</td>\n",
       "      <td>West</td>\n",
       "      <td>High activity</td>\n",
       "      <td>produce</td>\n",
       "      <td>both</td>\n",
       "      <td>Middle age</td>\n",
       "      <td>with dependent</td>\n",
       "      <td>Adult+1</td>\n",
       "      <td>medium income</td>\n",
       "      <td>91.599998</td>\n",
       "    </tr>\n",
       "    <tr>\n",
       "      <th>22303179</th>\n",
       "      <td>202279</td>\n",
       "      <td>Male</td>\n",
       "      <td>Idaho</td>\n",
       "      <td>57</td>\n",
       "      <td>3</td>\n",
       "      <td>married</td>\n",
       "      <td>98119</td>\n",
       "      <td>2</td>\n",
       "      <td>3</td>\n",
       "      <td>5</td>\n",
       "      <td>9</td>\n",
       "      <td>8.0</td>\n",
       "      <td>1819</td>\n",
       "      <td>8</td>\n",
       "      <td>1</td>\n",
       "      <td>All Natural No Stir Creamy Almond Butter</td>\n",
       "      <td>13</td>\n",
       "      <td>11.5</td>\n",
       "      <td>Mid-range product</td>\n",
       "      <td>Regularly busy</td>\n",
       "      <td>Average orders</td>\n",
       "      <td>8</td>\n",
       "      <td>New customer</td>\n",
       "      <td>8</td>\n",
       "      <td>Low spender</td>\n",
       "      <td>24.0</td>\n",
       "      <td>orders seldomly</td>\n",
       "      <td>West</td>\n",
       "      <td>High activity</td>\n",
       "      <td>pantry</td>\n",
       "      <td>both</td>\n",
       "      <td>Middle age</td>\n",
       "      <td>with dependent</td>\n",
       "      <td>Adult+1</td>\n",
       "      <td>medium income</td>\n",
       "      <td>91.599998</td>\n",
       "    </tr>\n",
       "    <tr>\n",
       "      <th>22303183</th>\n",
       "      <td>202279</td>\n",
       "      <td>Male</td>\n",
       "      <td>Idaho</td>\n",
       "      <td>57</td>\n",
       "      <td>3</td>\n",
       "      <td>married</td>\n",
       "      <td>98119</td>\n",
       "      <td>2</td>\n",
       "      <td>3</td>\n",
       "      <td>5</td>\n",
       "      <td>9</td>\n",
       "      <td>8.0</td>\n",
       "      <td>45918</td>\n",
       "      <td>4</td>\n",
       "      <td>1</td>\n",
       "      <td>Coconut Butter</td>\n",
       "      <td>13</td>\n",
       "      <td>8.4</td>\n",
       "      <td>Mid-range product</td>\n",
       "      <td>Regularly busy</td>\n",
       "      <td>Average orders</td>\n",
       "      <td>8</td>\n",
       "      <td>New customer</td>\n",
       "      <td>8</td>\n",
       "      <td>Low spender</td>\n",
       "      <td>24.0</td>\n",
       "      <td>orders seldomly</td>\n",
       "      <td>West</td>\n",
       "      <td>High activity</td>\n",
       "      <td>pantry</td>\n",
       "      <td>both</td>\n",
       "      <td>Middle age</td>\n",
       "      <td>with dependent</td>\n",
       "      <td>Adult+1</td>\n",
       "      <td>medium income</td>\n",
       "      <td>91.599998</td>\n",
       "    </tr>\n",
       "    <tr>\n",
       "      <th>22303188</th>\n",
       "      <td>202279</td>\n",
       "      <td>Male</td>\n",
       "      <td>Idaho</td>\n",
       "      <td>57</td>\n",
       "      <td>3</td>\n",
       "      <td>married</td>\n",
       "      <td>98119</td>\n",
       "      <td>2</td>\n",
       "      <td>3</td>\n",
       "      <td>5</td>\n",
       "      <td>9</td>\n",
       "      <td>8.0</td>\n",
       "      <td>9327</td>\n",
       "      <td>3</td>\n",
       "      <td>0</td>\n",
       "      <td>Garlic Powder</td>\n",
       "      <td>13</td>\n",
       "      <td>3.6</td>\n",
       "      <td>Low-range product</td>\n",
       "      <td>Regularly busy</td>\n",
       "      <td>Average orders</td>\n",
       "      <td>8</td>\n",
       "      <td>New customer</td>\n",
       "      <td>8</td>\n",
       "      <td>Low spender</td>\n",
       "      <td>24.0</td>\n",
       "      <td>orders seldomly</td>\n",
       "      <td>West</td>\n",
       "      <td>High activity</td>\n",
       "      <td>pantry</td>\n",
       "      <td>both</td>\n",
       "      <td>Middle age</td>\n",
       "      <td>with dependent</td>\n",
       "      <td>Adult+1</td>\n",
       "      <td>medium income</td>\n",
       "      <td>91.599998</td>\n",
       "    </tr>\n",
       "    <tr>\n",
       "      <th>22303196</th>\n",
       "      <td>202279</td>\n",
       "      <td>Male</td>\n",
       "      <td>Idaho</td>\n",
       "      <td>57</td>\n",
       "      <td>3</td>\n",
       "      <td>married</td>\n",
       "      <td>98119</td>\n",
       "      <td>2</td>\n",
       "      <td>3</td>\n",
       "      <td>5</td>\n",
       "      <td>9</td>\n",
       "      <td>8.0</td>\n",
       "      <td>40141</td>\n",
       "      <td>7</td>\n",
       "      <td>1</td>\n",
       "      <td>Original Unflavored Gelatine Mix</td>\n",
       "      <td>13</td>\n",
       "      <td>11.5</td>\n",
       "      <td>Mid-range product</td>\n",
       "      <td>Regularly busy</td>\n",
       "      <td>Average orders</td>\n",
       "      <td>8</td>\n",
       "      <td>New customer</td>\n",
       "      <td>8</td>\n",
       "      <td>Low spender</td>\n",
       "      <td>24.0</td>\n",
       "      <td>orders seldomly</td>\n",
       "      <td>West</td>\n",
       "      <td>High activity</td>\n",
       "      <td>pantry</td>\n",
       "      <td>both</td>\n",
       "      <td>Middle age</td>\n",
       "      <td>with dependent</td>\n",
       "      <td>Adult+1</td>\n",
       "      <td>medium income</td>\n",
       "      <td>91.599998</td>\n",
       "    </tr>\n",
       "    <tr>\n",
       "      <th>22303211</th>\n",
       "      <td>202279</td>\n",
       "      <td>Male</td>\n",
       "      <td>Idaho</td>\n",
       "      <td>57</td>\n",
       "      <td>3</td>\n",
       "      <td>married</td>\n",
       "      <td>98119</td>\n",
       "      <td>2</td>\n",
       "      <td>3</td>\n",
       "      <td>5</td>\n",
       "      <td>9</td>\n",
       "      <td>8.0</td>\n",
       "      <td>30035</td>\n",
       "      <td>5</td>\n",
       "      <td>0</td>\n",
       "      <td>Natural Sweetener</td>\n",
       "      <td>13</td>\n",
       "      <td>13.7</td>\n",
       "      <td>Mid-range product</td>\n",
       "      <td>Regularly busy</td>\n",
       "      <td>Average orders</td>\n",
       "      <td>8</td>\n",
       "      <td>New customer</td>\n",
       "      <td>8</td>\n",
       "      <td>Low spender</td>\n",
       "      <td>24.0</td>\n",
       "      <td>orders seldomly</td>\n",
       "      <td>West</td>\n",
       "      <td>High activity</td>\n",
       "      <td>pantry</td>\n",
       "      <td>both</td>\n",
       "      <td>Middle age</td>\n",
       "      <td>with dependent</td>\n",
       "      <td>Adult+1</td>\n",
       "      <td>medium income</td>\n",
       "      <td>91.599998</td>\n",
       "    </tr>\n",
       "  </tbody>\n",
       "</table>\n",
       "</div>"
      ],
      "text/plain": [
       "          user_id Gender  State  Age  number_of_dependents fam_status  income  \\\n",
       "7500005    202279   Male  Idaho   57                     3    married   98119   \n",
       "16392014   202279   Male  Idaho   57                     3    married   98119   \n",
       "16392019   202279   Male  Idaho   57                     3    married   98119   \n",
       "16392029   202279   Male  Idaho   57                     3    married   98119   \n",
       "22303179   202279   Male  Idaho   57                     3    married   98119   \n",
       "22303183   202279   Male  Idaho   57                     3    married   98119   \n",
       "22303188   202279   Male  Idaho   57                     3    married   98119   \n",
       "22303196   202279   Male  Idaho   57                     3    married   98119   \n",
       "22303211   202279   Male  Idaho   57                     3    married   98119   \n",
       "\n",
       "          order_id  amount_of_orders  orders_day_of_week  order_hour_of_day  \\\n",
       "7500005          2                 3                   5                  9   \n",
       "16392014         2                 3                   5                  9   \n",
       "16392019         2                 3                   5                  9   \n",
       "16392029         2                 3                   5                  9   \n",
       "22303179         2                 3                   5                  9   \n",
       "22303183         2                 3                   5                  9   \n",
       "22303188         2                 3                   5                  9   \n",
       "22303196         2                 3                   5                  9   \n",
       "22303211         2                 3                   5                  9   \n",
       "\n",
       "          days_since_prior_order  product_id  add_to_cart_order  reordered  \\\n",
       "7500005                      8.0       33120                  1          1   \n",
       "16392014                     8.0       28985                  2          1   \n",
       "16392019                     8.0       17794                  6          1   \n",
       "16392029                     8.0       43668                  9          0   \n",
       "22303179                     8.0        1819                  8          1   \n",
       "22303183                     8.0       45918                  4          1   \n",
       "22303188                     8.0        9327                  3          0   \n",
       "22303196                     8.0       40141                  7          1   \n",
       "22303211                     8.0       30035                  5          0   \n",
       "\n",
       "                                      product_name  department_id  prices  \\\n",
       "7500005                         Organic Egg Whites             16    11.3   \n",
       "16392014                     Michigan Organic Kale              4    13.4   \n",
       "16392019                                   Carrots              4    10.7   \n",
       "16392029                   Classic Blend Cole Slaw              4     7.5   \n",
       "22303179  All Natural No Stir Creamy Almond Butter             13    11.5   \n",
       "22303183                            Coconut Butter             13     8.4   \n",
       "22303188                             Garlic Powder             13     3.6   \n",
       "22303196          Original Unflavored Gelatine Mix             13    11.5   \n",
       "22303211                         Natural Sweetener             13    13.7   \n",
       "\n",
       "            price_range_loc    busiest_days busiest_period_of_day  max_order  \\\n",
       "7500005   Mid-range product  Regularly busy        Average orders          8   \n",
       "16392014  Mid-range product  Regularly busy        Average orders          8   \n",
       "16392019  Mid-range product  Regularly busy        Average orders          8   \n",
       "16392029  Mid-range product  Regularly busy        Average orders          8   \n",
       "22303179  Mid-range product  Regularly busy        Average orders          8   \n",
       "22303183  Mid-range product  Regularly busy        Average orders          8   \n",
       "22303188  Low-range product  Regularly busy        Average orders          8   \n",
       "22303196  Mid-range product  Regularly busy        Average orders          8   \n",
       "22303211  Mid-range product  Regularly busy        Average orders          8   \n",
       "\n",
       "          loyalty_flag  average_spending spending_flag  \\\n",
       "7500005   New customer                 8   Low spender   \n",
       "16392014  New customer                 8   Low spender   \n",
       "16392019  New customer                 8   Low spender   \n",
       "16392029  New customer                 8   Low spender   \n",
       "22303179  New customer                 8   Low spender   \n",
       "22303183  New customer                 8   Low spender   \n",
       "22303188  New customer                 8   Low spender   \n",
       "22303196  New customer                 8   Low spender   \n",
       "22303211  New customer                 8   Low spender   \n",
       "\n",
       "          median_days_previous_order  order_frequency Region order_activity  \\\n",
       "7500005                         24.0  orders seldomly   West  High activity   \n",
       "16392014                        24.0  orders seldomly   West  High activity   \n",
       "16392019                        24.0  orders seldomly   West  High activity   \n",
       "16392029                        24.0  orders seldomly   West  High activity   \n",
       "22303179                        24.0  orders seldomly   West  High activity   \n",
       "22303183                        24.0  orders seldomly   West  High activity   \n",
       "22303188                        24.0  orders seldomly   West  High activity   \n",
       "22303196                        24.0  orders seldomly   West  High activity   \n",
       "22303211                        24.0  orders seldomly   West  High activity   \n",
       "\n",
       "          department _merge    maturity   has dependent profile agexdependent  \\\n",
       "7500005   dairy eggs   both  Middle age  with dependent               Adult+1   \n",
       "16392014     produce   both  Middle age  with dependent               Adult+1   \n",
       "16392019     produce   both  Middle age  with dependent               Adult+1   \n",
       "16392029     produce   both  Middle age  with dependent               Adult+1   \n",
       "22303179      pantry   both  Middle age  with dependent               Adult+1   \n",
       "22303183      pantry   both  Middle age  with dependent               Adult+1   \n",
       "22303188      pantry   both  Middle age  with dependent               Adult+1   \n",
       "22303196      pantry   both  Middle age  with dependent               Adult+1   \n",
       "22303211      pantry   both  Middle age  with dependent               Adult+1   \n",
       "\n",
       "           income level  sum_per_order  \n",
       "7500005   medium income      91.599998  \n",
       "16392014  medium income      91.599998  \n",
       "16392019  medium income      91.599998  \n",
       "16392029  medium income      91.599998  \n",
       "22303179  medium income      91.599998  \n",
       "22303183  medium income      91.599998  \n",
       "22303188  medium income      91.599998  \n",
       "22303196  medium income      91.599998  \n",
       "22303211  medium income      91.599998  "
      ]
     },
     "execution_count": 160,
     "metadata": {},
     "output_type": "execute_result"
    }
   ],
   "source": [
    "# checking individual prices with newly created sum_per_order value\n",
    "\n",
    "df_new.loc[df_new[\"order_id\"] == 2]"
   ]
  },
  {
   "cell_type": "code",
   "execution_count": 35,
   "id": "8f58eff4",
   "metadata": {},
   "outputs": [
    {
     "data": {
      "text/html": [
       "<div>\n",
       "<style scoped>\n",
       "    .dataframe tbody tr th:only-of-type {\n",
       "        vertical-align: middle;\n",
       "    }\n",
       "\n",
       "    .dataframe tbody tr th {\n",
       "        vertical-align: top;\n",
       "    }\n",
       "\n",
       "    .dataframe thead tr th {\n",
       "        text-align: left;\n",
       "    }\n",
       "\n",
       "    .dataframe thead tr:last-of-type th {\n",
       "        text-align: right;\n",
       "    }\n",
       "</style>\n",
       "<table border=\"1\" class=\"dataframe\">\n",
       "  <thead>\n",
       "    <tr>\n",
       "      <th></th>\n",
       "      <th colspan=\"3\" halign=\"left\">sum_per_order</th>\n",
       "    </tr>\n",
       "    <tr>\n",
       "      <th></th>\n",
       "      <th>mean</th>\n",
       "      <th>min</th>\n",
       "      <th>max</th>\n",
       "    </tr>\n",
       "    <tr>\n",
       "      <th>profile agexdependent</th>\n",
       "      <th></th>\n",
       "      <th></th>\n",
       "      <th></th>\n",
       "    </tr>\n",
       "  </thead>\n",
       "  <tbody>\n",
       "    <tr>\n",
       "      <th>Adult with dependent</th>\n",
       "      <td>122.544640</td>\n",
       "      <td>0.0</td>\n",
       "      <td>1092.199951</td>\n",
       "    </tr>\n",
       "    <tr>\n",
       "      <th>Adult without dependent</th>\n",
       "      <td>121.104820</td>\n",
       "      <td>0.0</td>\n",
       "      <td>712.000000</td>\n",
       "    </tr>\n",
       "    <tr>\n",
       "      <th>Senior with dependent</th>\n",
       "      <td>121.640160</td>\n",
       "      <td>0.0</td>\n",
       "      <td>787.000000</td>\n",
       "    </tr>\n",
       "    <tr>\n",
       "      <th>Senior without dependent</th>\n",
       "      <td>122.430283</td>\n",
       "      <td>0.0</td>\n",
       "      <td>875.000000</td>\n",
       "    </tr>\n",
       "    <tr>\n",
       "      <th>Young Adult with dependent</th>\n",
       "      <td>123.052429</td>\n",
       "      <td>0.0</td>\n",
       "      <td>842.099976</td>\n",
       "    </tr>\n",
       "    <tr>\n",
       "      <th>Young Adult without dependent</th>\n",
       "      <td>122.026680</td>\n",
       "      <td>0.0</td>\n",
       "      <td>624.299988</td>\n",
       "    </tr>\n",
       "  </tbody>\n",
       "</table>\n",
       "</div>"
      ],
      "text/plain": [
       "                              sum_per_order                  \n",
       "                                       mean  min          max\n",
       "profile agexdependent                                        \n",
       "Adult with dependent             122.544640  0.0  1092.199951\n",
       "Adult without dependent          121.104820  0.0   712.000000\n",
       "Senior with dependent            121.640160  0.0   787.000000\n",
       "Senior without dependent         122.430283  0.0   875.000000\n",
       "Young Adult with dependent       123.052429  0.0   842.099976\n",
       "Young Adult without dependent    122.026680  0.0   624.299988"
      ]
     },
     "execution_count": 35,
     "metadata": {},
     "output_type": "execute_result"
    }
   ],
   "source": [
    "# exploring customer profiles via frequency usage and expenditure:\n",
    "\n",
    "df_new.groupby(\"profile agexdependent\").agg({\"sum_per_order\":[\"mean\", \"min\", \"max\"]})"
   ]
  },
  {
   "cell_type": "markdown",
   "id": "a40dcc38",
   "metadata": {},
   "source": [
    "#### The average sum per order is the same for all profiles."
   ]
  },
  {
   "cell_type": "code",
   "execution_count": 97,
   "id": "21975d12",
   "metadata": {},
   "outputs": [],
   "source": [
    "# creating crosstab for profile age x dependent over order_frequency\n",
    "\n",
    "crosstab2 = pd.crosstab (df_new[\"profile agexdependent\"], df_new[\"order_frequency\"], dropna = False)"
   ]
  },
  {
   "cell_type": "code",
   "execution_count": 37,
   "id": "0866a049",
   "metadata": {},
   "outputs": [
    {
     "data": {
      "text/html": [
       "<div>\n",
       "<style scoped>\n",
       "    .dataframe tbody tr th:only-of-type {\n",
       "        vertical-align: middle;\n",
       "    }\n",
       "\n",
       "    .dataframe tbody tr th {\n",
       "        vertical-align: top;\n",
       "    }\n",
       "\n",
       "    .dataframe thead th {\n",
       "        text-align: right;\n",
       "    }\n",
       "</style>\n",
       "<table border=\"1\" class=\"dataframe\">\n",
       "  <thead>\n",
       "    <tr style=\"text-align: right;\">\n",
       "      <th>order_frequency</th>\n",
       "      <th>Frequent customer</th>\n",
       "      <th>Non-frequent customer</th>\n",
       "      <th>Regular customer</th>\n",
       "    </tr>\n",
       "    <tr>\n",
       "      <th>profile agexdependent</th>\n",
       "      <th></th>\n",
       "      <th></th>\n",
       "      <th></th>\n",
       "    </tr>\n",
       "  </thead>\n",
       "  <tbody>\n",
       "    <tr>\n",
       "      <th>Adult with dependent</th>\n",
       "      <td>6244649</td>\n",
       "      <td>859181</td>\n",
       "      <td>2013083</td>\n",
       "    </tr>\n",
       "    <tr>\n",
       "      <th>Adult without dependent</th>\n",
       "      <td>2073349</td>\n",
       "      <td>278652</td>\n",
       "      <td>678851</td>\n",
       "    </tr>\n",
       "    <tr>\n",
       "      <th>Senior with dependent</th>\n",
       "      <td>5433095</td>\n",
       "      <td>746604</td>\n",
       "      <td>1749534</td>\n",
       "    </tr>\n",
       "    <tr>\n",
       "      <th>Senior without dependent</th>\n",
       "      <td>1819123</td>\n",
       "      <td>243934</td>\n",
       "      <td>582214</td>\n",
       "    </tr>\n",
       "    <tr>\n",
       "      <th>Young Adult with dependent</th>\n",
       "      <td>4241595</td>\n",
       "      <td>572684</td>\n",
       "      <td>1364458</td>\n",
       "    </tr>\n",
       "    <tr>\n",
       "      <th>Young Adult without dependent</th>\n",
       "      <td>1392665</td>\n",
       "      <td>193920</td>\n",
       "      <td>476973</td>\n",
       "    </tr>\n",
       "  </tbody>\n",
       "</table>\n",
       "</div>"
      ],
      "text/plain": [
       "order_frequency                Frequent customer  Non-frequent customer  \\\n",
       "profile agexdependent                                                     \n",
       "Adult with dependent                     6244649                 859181   \n",
       "Adult without dependent                  2073349                 278652   \n",
       "Senior with dependent                    5433095                 746604   \n",
       "Senior without dependent                 1819123                 243934   \n",
       "Young Adult with dependent               4241595                 572684   \n",
       "Young Adult without dependent            1392665                 193920   \n",
       "\n",
       "order_frequency                Regular customer  \n",
       "profile agexdependent                            \n",
       "Adult with dependent                    2013083  \n",
       "Adult without dependent                  678851  \n",
       "Senior with dependent                   1749534  \n",
       "Senior without dependent                 582214  \n",
       "Young Adult with dependent              1364458  \n",
       "Young Adult without dependent            476973  "
      ]
     },
     "execution_count": 37,
     "metadata": {},
     "output_type": "execute_result"
    }
   ],
   "source": [
    "# checking output\n",
    "\n",
    "crosstab2"
   ]
  },
  {
   "cell_type": "code",
   "execution_count": 98,
   "id": "ee6d1886",
   "metadata": {},
   "outputs": [
    {
     "data": {
      "text/plain": [
       "Text(0, 0.5, '')"
      ]
     },
     "execution_count": 98,
     "metadata": {},
     "output_type": "execute_result"
    },
    {
     "data": {
      "image/png": "[encoded data removed]",
      "text/plain": [
       "<Figure size 640x480 with 1 Axes>"
      ]
     },
     "metadata": {},
     "output_type": "display_data"
    }
   ],
   "source": [
    "bar_profile1_orders = crosstab2.sort_values(\"orders frequently\").plot(kind=\"barh\", stacked=True, rot=0)\n",
    "plt.title(\"Order frequency by customer profile Age x Dependents\")\n",
    "plt.ylabel(\"\")"
   ]
  },
  {
   "cell_type": "code",
   "execution_count": 25,
   "id": "2d9bfb74",
   "metadata": {},
   "outputs": [],
   "source": [
    "# exporting chart\n",
    "\n",
    "bar_profile1_orders.figure.savefig(os.path.join(path,\"04 Analysis\", \"Visualizations\", \"bar_agexdep_orders.png\"))"
   ]
  },
  {
   "cell_type": "code",
   "execution_count": 167,
   "id": "f2f82cfe",
   "metadata": {},
   "outputs": [],
   "source": [
    "# exploring connection between profile agexdependent and sum_per_order\n",
    "\n",
    "orders_sum_profiles = df_new.groupby(['sum_per_order','profile agexdependent']).size().unstack(fill_value=0)"
   ]
  },
  {
   "cell_type": "code",
   "execution_count": 168,
   "id": "279e03b1",
   "metadata": {},
   "outputs": [
    {
     "data": {
      "image/png": "[encoded data removed]",
      "text/plain": [
       "<Figure size 640x480 with 1 Axes>"
      ]
     },
     "metadata": {},
     "output_type": "display_data"
    }
   ],
   "source": [
    "# not using this since it's not readable\n",
    "\n",
    "stacked_profile_sums = orders_sum_profiles.plot.bar(stacked = True, title = 'Total sum of orders per profile')"
   ]
  },
  {
   "cell_type": "code",
   "execution_count": 181,
   "id": "579ddec4",
   "metadata": {},
   "outputs": [
    {
     "data": {
      "text/html": [
       "<div>\n",
       "<style scoped>\n",
       "    .dataframe tbody tr th:only-of-type {\n",
       "        vertical-align: middle;\n",
       "    }\n",
       "\n",
       "    .dataframe tbody tr th {\n",
       "        vertical-align: top;\n",
       "    }\n",
       "\n",
       "    .dataframe thead tr th {\n",
       "        text-align: left;\n",
       "    }\n",
       "\n",
       "    .dataframe thead tr:last-of-type th {\n",
       "        text-align: right;\n",
       "    }\n",
       "</style>\n",
       "<table border=\"1\" class=\"dataframe\">\n",
       "  <thead>\n",
       "    <tr>\n",
       "      <th></th>\n",
       "      <th colspan=\"3\" halign=\"left\">sum_per_order</th>\n",
       "    </tr>\n",
       "    <tr>\n",
       "      <th></th>\n",
       "      <th>mean</th>\n",
       "      <th>min</th>\n",
       "      <th>max</th>\n",
       "    </tr>\n",
       "    <tr>\n",
       "      <th>income level</th>\n",
       "      <th></th>\n",
       "      <th></th>\n",
       "      <th></th>\n",
       "    </tr>\n",
       "  </thead>\n",
       "  <tbody>\n",
       "    <tr>\n",
       "      <th>high income</th>\n",
       "      <td>126.153702</td>\n",
       "      <td>0.0</td>\n",
       "      <td>1047.400024</td>\n",
       "    </tr>\n",
       "    <tr>\n",
       "      <th>low income</th>\n",
       "      <td>109.271065</td>\n",
       "      <td>1.0</td>\n",
       "      <td>875.000000</td>\n",
       "    </tr>\n",
       "    <tr>\n",
       "      <th>medium income</th>\n",
       "      <td>126.746109</td>\n",
       "      <td>0.0</td>\n",
       "      <td>1092.199951</td>\n",
       "    </tr>\n",
       "  </tbody>\n",
       "</table>\n",
       "</div>"
      ],
      "text/plain": [
       "              sum_per_order                  \n",
       "                       mean  min          max\n",
       "income level                                 \n",
       "high income      126.153702  0.0  1047.400024\n",
       "low income       109.271065  1.0   875.000000\n",
       "medium income    126.746109  0.0  1092.199951"
      ]
     },
     "execution_count": 181,
     "metadata": {},
     "output_type": "execute_result"
    }
   ],
   "source": [
    "# exploring profile income level for expenditure and order frequency\n",
    "\n",
    "df_new.groupby(\"income level\").agg({\"sum_per_order\":[\"mean\", \"min\", \"max\"]})"
   ]
  },
  {
   "cell_type": "code",
   "execution_count": 130,
   "id": "3a09606f",
   "metadata": {},
   "outputs": [
    {
     "name": "stdout",
     "output_type": "stream",
     "text": [
      "order_frequency  orders frequently  orders seldomly  orders sometimes\n",
      "income level                                                         \n",
      "high income                6316243           835799           2027471\n",
      "low income                 3879096           620236           1303969\n",
      "medium income             11009137          1438940           3533673\n"
     ]
    }
   ],
   "source": [
    "# crosstab for income levels over order frequency\n",
    "\n",
    "crosstab3 = pd.crosstab (df_new[\"income level\"], df_new[\"order_frequency\"], dropna = False)\n",
    "print(crosstab3)"
   ]
  },
  {
   "cell_type": "code",
   "execution_count": 132,
   "id": "e166df0e",
   "metadata": {},
   "outputs": [
    {
     "data": {
      "text/plain": [
       "Text(0, 0.5, '')"
      ]
     },
     "execution_count": 132,
     "metadata": {},
     "output_type": "execute_result"
    },
    {
     "data": {
      "image/png": "[encoded data removed]",
      "text/plain": [
       "<Figure size 640x480 with 1 Axes>"
      ]
     },
     "metadata": {},
     "output_type": "display_data"
    }
   ],
   "source": [
    "bar_profile2_orders = crosstab3.sort_values(\"orders frequently\").plot(kind=\"bar\", stacked=True, rot=0)\n",
    "plt.title(\"Order frequency by customer profile income level\")\n",
    "plt.ylabel(\"\")"
   ]
  },
  {
   "cell_type": "code",
   "execution_count": 31,
   "id": "afccb92f",
   "metadata": {},
   "outputs": [],
   "source": [
    "# exporting bar chart\n",
    "\n",
    "bar_profile2_orders.figure.savefig(os.path.join(path,\"04 Analysis\", \"Visualizations\", \"bar_income_orders.png\"))"
   ]
  },
  {
   "cell_type": "code",
   "execution_count": 58,
   "id": "d5848eab",
   "metadata": {},
   "outputs": [
    {
     "data": {
      "text/plain": [
       "Text(0.5, 1.0, 'Departments by order frequency')"
      ]
     },
     "execution_count": 58,
     "metadata": {},
     "output_type": "execute_result"
    },
    {
     "data": {
      "image/png": "[encoded data removed]",
      "text/plain": [
       "<Figure size 640x480 with 1 Axes>"
      ]
     },
     "metadata": {},
     "output_type": "display_data"
    }
   ],
   "source": [
    "# creating viz for departments with highest frequency of orders\n",
    "\n",
    "bar_dep = df_new[\"department\"].value_counts(dropna= False).plot.bar(color=[\"blue\",\"blue\",\"blue\",\"blue\",\"blue\",\"lightblue\", \"lightblue\",\"lightblue\", \"lightblue\",\"lightblue\", \"lightblue\",\"lightblue\", \"lightblue\",\"lightblue\", \"lightblue\",\"lightblue\", \"lightblue\",\"lightblue\", \"lightblue\",\"lightblue\", \"lightblue\",])\n",
    "plt.title(\"Departments by order frequency\")"
   ]
  },
  {
   "cell_type": "code",
   "execution_count": 14,
   "id": "99873de4",
   "metadata": {},
   "outputs": [
    {
     "data": {
      "text/plain": [
       "produce       9079273\n",
       "dairy eggs    5177182\n",
       "snacks        2766406\n",
       "beverages     2571901\n",
       "frozen        2121731\n",
       "Name: department, dtype: int64"
      ]
     },
     "execution_count": 14,
     "metadata": {},
     "output_type": "execute_result"
    }
   ],
   "source": [
    "# finding most popular departments:\n",
    "\n",
    "df_new[\"department\"].value_counts(dropna = False) [:5]"
   ]
  },
  {
   "cell_type": "markdown",
   "id": "e68b9256",
   "metadata": {},
   "source": [
    "#### 5 strongest selling departments: produce, dairy eggs, snacks, beverages, frozen"
   ]
  },
  {
   "cell_type": "code",
   "execution_count": 133,
   "id": "f26927f9",
   "metadata": {},
   "outputs": [
    {
     "name": "stdout",
     "output_type": "stream",
     "text": [
      "order_frequency  orders frequently  orders seldomly  orders sometimes\n",
      "income level                                                         \n",
      "high income                6316243           835799           2027471\n",
      "low income                 3879096           620236           1303969\n",
      "medium income             11009137          1438940           3533673\n"
     ]
    }
   ],
   "source": [
    "# exploring how the customer profiles shop\n",
    "\n",
    "crosstab10 = pd.crosstab (df_new[\"department\"], df_new[\"profile agexdependent\"], dropna = False)"
   ]
  },
  {
   "cell_type": "code",
   "execution_count": 147,
   "id": "dd525a0d",
   "metadata": {},
   "outputs": [
    {
     "data": {
      "text/plain": [
       "Text(0.5, 0, 'orders per million')"
      ]
     },
     "execution_count": 147,
     "metadata": {},
     "output_type": "execute_result"
    },
    {
     "data": {
      "image/png": "[encoded data removed]",
      "text/plain": [
       "<Figure size 640x480 with 1 Axes>"
      ]
     },
     "metadata": {},
     "output_type": "display_data"
    }
   ],
   "source": [
    "bar_profile_dep = crosstab10.sort_values(\"Adult+1\").plot(kind=\"barh\", stacked=True, rot=0)\n",
    "plt.title(\"Order frequency of departments by customer profile agexdependent\")\n",
    "plt.ylabel(\"departments\")\n",
    "plt.xlabel (\"orders per million\")"
   ]
  },
  {
   "cell_type": "code",
   "execution_count": 140,
   "id": "646041ed",
   "metadata": {},
   "outputs": [],
   "source": [
    "# exporting bar_dep\n",
    "\n",
    "bar_profile_dep.figure.savefig(os.path.join(path,\"04 Analysis\", \"Visualizations\", \"bar_profile_dep.png\"))"
   ]
  },
  {
   "cell_type": "code",
   "execution_count": 148,
   "id": "dce40c2a",
   "metadata": {},
   "outputs": [],
   "source": [
    "# crosstabbing popular products with agexdependent profile\n",
    "\n",
    "crosstab11 = pd.crosstab (filtered_df[\"product_name\"], df_new[\"profile agexdependent\"], dropna = False)"
   ]
  },
  {
   "cell_type": "code",
   "execution_count": 176,
   "id": "b6241dc5",
   "metadata": {},
   "outputs": [
    {
     "data": {
      "text/plain": [
       "<matplotlib.legend.Legend at 0x1d47c0cbd90>"
      ]
     },
     "execution_count": 176,
     "metadata": {},
     "output_type": "execute_result"
    },
    {
     "data": {
      "image/png": "[encoded data removed]",
      "text/plain": [
       "<Figure size 640x480 with 1 Axes>"
      ]
     },
     "metadata": {},
     "output_type": "display_data"
    }
   ],
   "source": [
    "# dividing the top 10 products by profile agexdependent\n",
    "\n",
    "bar_product_profile1 = crosstab11.sort_values(\"Adult+1\").plot(kind=\"barh\", stacked= True, rot=0)\n",
    "plt.title(\"products ordered by profile agexdependent\")\n",
    "plt.xlabel(\"orders\")\n",
    "plt.ylabel(\"\")\n",
    "plt.legend(bbox_to_anchor=(1.0, 1.0))"
   ]
  },
  {
   "cell_type": "code",
   "execution_count": 170,
   "id": "c1cb3c47",
   "metadata": {},
   "outputs": [
    {
     "name": "stdout",
     "output_type": "stream",
     "text": [
      "price_range_loc        High-range product  Low-range product  \\\n",
      "profile agexdependent                                          \n",
      "Adult                               37615             946559   \n",
      "Adult+1                            117808            2849626   \n",
      "Senior                              34134             826382   \n",
      "Senior+1                           102798            2475662   \n",
      "Young Adult                         25706             646297   \n",
      "Young Adult+1                       79892            1930314   \n",
      "\n",
      "price_range_loc        Mid-range product  \n",
      "profile agexdependent                     \n",
      "Adult                            2046678  \n",
      "Adult+1                          6149479  \n",
      "Senior                           1784755  \n",
      "Senior+1                         5350773  \n",
      "Young Adult                      1391555  \n",
      "Young Adult+1                    4168531  \n"
     ]
    }
   ],
   "source": [
    "# looking at profile agexdependent habit of ordering differently priced products\n",
    "\n",
    "crosstab7 = pd.crosstab(df_new[\"profile agexdependent\"], df_new[\"price_range_loc\"], dropna = False)\n",
    "\n",
    "print(crosstab7)"
   ]
  },
  {
   "cell_type": "code",
   "execution_count": 173,
   "id": "67324ce6",
   "metadata": {},
   "outputs": [
    {
     "data": {
      "text/plain": [
       "<matplotlib.legend.Legend at 0x1d502b1d660>"
      ]
     },
     "execution_count": 173,
     "metadata": {},
     "output_type": "execute_result"
    },
    {
     "data": {
      "image/png": "[encoded data removed]",
      "text/plain": [
       "<Figure size 640x480 with 1 Axes>"
      ]
     },
     "metadata": {},
     "output_type": "display_data"
    }
   ],
   "source": [
    "bar_profile1_prices = crosstab7.sort_values(\"Mid-range product\").plot(kind=\"bar\", rot=0)\n",
    "plt.title(\"Choice of product prices by customer profile\")\n",
    "plt.xlabel(\"\")\n",
    "plt.ylabel(\"orders in million\")\n",
    "plt.legend(bbox_to_anchor=(1.0, 1.0))"
   ]
  },
  {
   "cell_type": "code",
   "execution_count": 175,
   "id": "5812faf6",
   "metadata": {},
   "outputs": [],
   "source": [
    "# exporting bar_profile1_prices\n",
    "\n",
    "bar_profile1_prices.figure.savefig(os.path.join(path,\"04 Analysis\", \"Visualizations\", \"bar_profile_prices.png\"))"
   ]
  },
  {
   "cell_type": "code",
   "execution_count": 177,
   "id": "39053ad9",
   "metadata": {},
   "outputs": [
    {
     "name": "stdout",
     "output_type": "stream",
     "text": [
      "spending_flag          High spender  Low spender\n",
      "profile agexdependent                           \n",
      "Adult                         62189      2968663\n",
      "Adult+1                      184557      8932356\n",
      "Senior                        50321      2594950\n",
      "Senior+1                     156847      7772386\n",
      "Young Adult                   33532      2030026\n",
      "Young Adult+1                115979      6062758\n"
     ]
    }
   ],
   "source": [
    "# exploring connection between profile agexdependent and spending_flag\n",
    "\n",
    "crosstab20 = pd.crosstab(df_new[\"profile agexdependent\"], df_new[\"spending_flag\"], dropna = False)\n",
    "\n",
    "print(crosstab20)"
   ]
  },
  {
   "cell_type": "code",
   "execution_count": 178,
   "id": "6cf22e4b",
   "metadata": {},
   "outputs": [
    {
     "data": {
      "text/plain": [
       "<matplotlib.legend.Legend at 0x1d479da9a50>"
      ]
     },
     "execution_count": 178,
     "metadata": {},
     "output_type": "execute_result"
    },
    {
     "data": {
      "image/png": "[encoded data removed]",
      "text/plain": [
       "<Figure size 640x480 with 1 Axes>"
      ]
     },
     "metadata": {},
     "output_type": "display_data"
    }
   ],
   "source": [
    "bar_profile1_spenders = crosstab20.sort_values(\"Low spender\").plot(kind=\"bar\", rot=0)\n",
    "plt.title(\"Spending habit by customer profile\")\n",
    "plt.xlabel(\"\")\n",
    "plt.ylabel(\"orders in million\")\n",
    "plt.legend(bbox_to_anchor=(1.0, 1.0))"
   ]
  },
  {
   "cell_type": "code",
   "execution_count": 179,
   "id": "303f8bb3",
   "metadata": {},
   "outputs": [],
   "source": [
    "# exporting viz\n",
    "\n",
    "bar_profile1_spenders.figure.savefig(os.path.join(path,\"04 Analysis\", \"Visualizations\", \"bar_profile_spenders.png\"))"
   ]
  },
  {
   "cell_type": "code",
   "execution_count": null,
   "id": "81b775d2",
   "metadata": {},
   "outputs": [],
   "source": []
  }
 ],
 "metadata": {
  "kernelspec": {
   "display_name": "Python 3 (ipykernel)",
   "language": "python",
   "name": "python3"
  },
  "language_info": {
   "codemirror_mode": {
    "name": "ipython",
    "version": 3
   },
   "file_extension": ".py",
   "mimetype": "text/x-python",
   "name": "python",
   "nbconvert_exporter": "python",
   "pygments_lexer": "ipython3",
   "version": "3.10.9"
  },
  "widgets": {
   "application/vnd.jupyter.widget-state+json": {
    "state": {},
    "version_major": 2,
    "version_minor": 0
   }
  }
 },
 "nbformat": 4,
 "nbformat_minor": 5
}
